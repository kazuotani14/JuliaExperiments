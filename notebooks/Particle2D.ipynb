{
 "cells": [
  {
   "cell_type": "code",
   "execution_count": 3,
   "metadata": {
    "scrolled": true
   },
   "outputs": [
    {
     "data": {
      "text/plain": [
       "Plots.GRBackend()"
      ]
     },
     "execution_count": 3,
     "metadata": {},
     "output_type": "execute_result"
    }
   ],
   "source": [
    "using JuMP, Ipopt\n",
    "using Plots\n",
    "gr()"
   ]
  },
  {
   "cell_type": "markdown",
   "metadata": {},
   "source": [
    "### 1. MPC with JuMP, using code from [MIT's Juliacon presentation](https://github.com/tkoolen/Robocon2017Tutorial.jl)."
   ]
  },
  {
   "cell_type": "code",
   "execution_count": 22,
   "metadata": {},
   "outputs": [
    {
     "name": "stdout",
     "output_type": "stream",
     "text": [
      "This is Ipopt version 3.12.4, running with linear solver mumps.\n",
      "NOTE: Other linear solvers might be more efficient (see Ipopt documentation).\n",
      "\n",
      "Number of nonzeros in equality constraint Jacobian...:      232\n",
      "Number of nonzeros in inequality constraint Jacobian.:        0\n",
      "Number of nonzeros in Lagrangian Hessian.............:        4\n",
      "\n",
      "Total number of variables............................:      120\n",
      "                     variables with only lower bounds:        0\n",
      "                variables with lower and upper bounds:       40\n",
      "                     variables with only upper bounds:        0\n",
      "Total number of equality constraints.................:       80\n",
      "Total number of inequality constraints...............:        0\n",
      "        inequality constraints with only lower bounds:        0\n",
      "   inequality constraints with lower and upper bounds:        0\n",
      "        inequality constraints with only upper bounds:        0\n",
      "\n",
      "iter    objective    inf_pr   inf_du lg(mu)  ||d||  lg(rg) alpha_du alpha_pr  ls\n",
      "   0  0.0000000e+00 1.00e+00 0.00e+00  -1.0 0.00e+00    -  0.00e+00 0.00e+00   0\n",
      "   1  4.7842351e-01 6.67e-01 4.83e-01  -1.7 1.49e+00    -  2.52e-01 3.33e-01h  1\n",
      "   2  1.1464811e+00 5.58e-01 1.87e+00  -1.7 9.95e-01    -  4.29e-01 1.63e-01h  1\n",
      "   3  5.1418255e+00 4.42e-01 4.30e+00  -1.7 1.33e+00    -  3.52e-01 2.07e-01h  1\n",
      "   4  2.2878618e+01 3.03e-01 7.66e+00  -1.7 8.85e-01    -  5.05e-01 3.15e-01h  1\n",
      "   5  8.3816312e+01 7.31e-02 3.15e+00  -1.7 5.75e-01    -  8.58e-01 7.59e-01h  1\n",
      "   6  9.9412098e+01 3.21e-02 1.84e+00  -1.7 5.39e-01    -  8.03e-01 5.60e-01h  1\n",
      "   7  1.1274921e+02 1.18e-16 5.68e-14  -1.7 8.29e-02    -  1.00e+00 1.00e+00h  1\n",
      "   8  1.1207352e+02 9.71e-17 4.86e-02  -3.8 9.42e-02    -  8.81e-01 1.00e+00f  1\n",
      "   9  1.1203732e+02 9.71e-17 5.33e-14  -3.8 2.15e-01    -  1.00e+00 1.00e+00f  1\n",
      "iter    objective    inf_pr   inf_du lg(mu)  ||d||  lg(rg) alpha_du alpha_pr  ls\n",
      "  10  1.1203021e+02 1.32e-16 3.74e-04  -5.7 7.72e-02    -  9.30e-01 1.00e+00f  1\n",
      "  11  1.1203007e+02 9.71e-17 5.68e-14  -5.7 1.29e-02    -  1.00e+00 1.00e+00f  1\n",
      "  12  1.1203000e+02 1.44e-16 2.84e-14  -8.6 6.55e-04    -  1.00e+00 1.00e+00f  1\n",
      "  13  1.1203000e+02 1.04e-16 4.62e-14  -9.0 1.14e-06    -  1.00e+00 1.00e+00h  1\n",
      "\n",
      "Number of Iterations....: 13\n",
      "\n",
      "                                   (scaled)                 (unscaled)\n",
      "Objective...............:   1.1202999599174551e+02    1.1202999599174551e+02\n",
      "Dual infeasibility......:   4.6185277824406512e-14    4.6185277824406512e-14\n",
      "Constraint violation....:   1.0408340855860843e-16    1.0408340855860843e-16\n",
      "Complementarity.........:   9.0911758248973003e-10    9.0911758248973003e-10\n",
      "Overall NLP error.......:   9.0911758248973003e-10    9.0911758248973003e-10\n",
      "\n",
      "\n",
      "Number of objective function evaluations             = 14\n",
      "Number of objective gradient evaluations             = 14\n",
      "Number of equality constraint evaluations            = 14\n",
      "Number of inequality constraint evaluations          = 0\n",
      "Number of equality constraint Jacobian evaluations   = 14\n",
      "Number of inequality constraint Jacobian evaluations = 0\n",
      "Number of Lagrangian Hessian evaluations             = 13\n",
      "Total CPU secs in IPOPT (w/o function evaluations)   =      0.009\n",
      "Total CPU secs in NLP function evaluations           =      0.075\n",
      "\n",
      "EXIT: Optimal Solution Found.\n"
     ]
    },
    {
     "data": {
      "text/plain": [
       ":Optimal"
      ]
     },
     "execution_count": 22,
     "metadata": {},
     "output_type": "execute_result"
    }
   ],
   "source": [
    "# Set up model of particle \n",
    "\n",
    "model = Model(solver=IpoptSolver())\n",
    "\n",
    "# Constants\n",
    "Δt = 0.1\n",
    "num_time_steps = 20\n",
    "max_acceleration = 0.5\n",
    "\n",
    "# Decision variables\n",
    "@variables model begin\n",
    "    position[1:2, 1:num_time_steps]\n",
    "    velocity[1:2, 1:num_time_steps]\n",
    "    -max_acceleration <= acceleration[1:2, 1:num_time_steps] <= max_acceleration\n",
    "end\n",
    "\n",
    "# Dynamics constraints\n",
    "@constraint(model, [i=2:num_time_steps, j=1:2],\n",
    "            velocity[j, i] == velocity[j, i - 1] + acceleration[j, i - 1] * Δt)\n",
    "@constraint(model, [i=2:num_time_steps, j=1:2],\n",
    "            position[j, i] == position[j, i - 1] + velocity[j, i - 1] * Δt)\n",
    "\n",
    "# Cost function: minimize final position and final velocity\n",
    "@objective(model, Min, \n",
    "    100 * sum(position[:, end].^2) + sum(velocity[:, end].^2))\n",
    "\n",
    "# Initial conditions:\n",
    "@constraint(model, position[:, 1] .== [1, 0])\n",
    "@constraint(model, velocity[:, 1] .== [0, 1])\n",
    "\n",
    "solve(model)"
   ]
  },
  {
   "cell_type": "code",
   "execution_count": 23,
   "metadata": {},
   "outputs": [
    {
     "data": {
      "text/plain": [
       "2×20 Array{Float64,2}:\n",
       " -0.5  -0.5  -0.5  -0.5  -0.5  -0.5  …  -0.5  -0.5  -0.5  -0.5   0.5  0.0\n",
       " -0.5  -0.5  -0.5  -0.5  -0.5  -0.5     -0.5  -0.5  -0.5  -0.5  -0.5  0.0"
      ]
     },
     "execution_count": 23,
     "metadata": {},
     "output_type": "execute_result"
    }
   ],
   "source": [
    "# Extract the solution from the model\n",
    "q = getvalue(position)\n",
    "v = getvalue(velocity)\n",
    "u = getvalue(acceleration)"
   ]
  },
  {
   "cell_type": "code",
   "execution_count": 24,
   "metadata": {},
   "outputs": [
    {
     "data": {
      "text/plain": [
       "Plots.GRBackend()"
      ]
     },
     "execution_count": 24,
     "metadata": {},
     "output_type": "execute_result"
    }
   ],
   "source": [
    "using Plots\n",
    "# Use the GR backend for Plots.jl, because it's fast\n",
    "gr()"
   ]
  },
  {
   "cell_type": "code",
   "execution_count": 25,
   "metadata": {},
   "outputs": [
    {
     "name": "stderr",
     "output_type": "stream",
     "text": [
      "\u001b[1m\u001b[36mINFO: \u001b[39m\u001b[22m\u001b[36mSaved animation to /Users/Kazu/Code/julia/JuliaExperiments/img/mpc1.gif\n",
      "\u001b[39m"
     ]
    },
    {
     "data": {
      "text/html": [
       "<img src=\"img/mpc1.gif?0.260366042456734>\" />"
      ],
      "text/plain": [
       "Plots.AnimatedGif(\"/Users/Kazu/Code/julia/JuliaExperiments/img/mpc1.gif\")"
      ]
     },
     "execution_count": 25,
     "metadata": {},
     "output_type": "execute_result"
    }
   ],
   "source": [
    "# The @gif macro creates an animate plot, which lets us draw the\n",
    "# optimized trajectory of the brick as a function of time\n",
    "anim = @animate for i = 1:num_time_steps\n",
    "    plot(q[1, :], q[2, :], xlim=(-1.1, 1.1), ylim=(-1.1, 1.1))\n",
    "    plot!([q[1, i]], [q[2, i]], marker=(:hex, 6))\n",
    "end\n",
    "gif(anim, \"img/mpc1.gif\", fps = 30)"
   ]
  },
  {
   "cell_type": "markdown",
   "metadata": {},
   "source": [
    "To do MPC, we can optimize a trajectory at each timestep, execute the first command, then replan at the next timestep.\n",
    "\n",
    "TODO: \n",
    "\n",
    "* Try adding noise"
   ]
  },
  {
   "cell_type": "markdown",
   "metadata": {},
   "source": [
    "### 2. Local QP controller"
   ]
  },
  {
   "cell_type": "code",
   "execution_count": 4,
   "metadata": {},
   "outputs": [
    {
     "data": {
      "text/plain": [
       "qp_controller (generic function with 1 method)"
      ]
     },
     "execution_count": 4,
     "metadata": {},
     "output_type": "execute_result"
    }
   ],
   "source": [
    "# Constants\n",
    "Δt = 0.1\n",
    "num_time_steps = 20\n",
    "max_acceleration = 0.5\n",
    "kp = 1.5\n",
    "kd = 2*sqrt(1.)\n",
    "\n",
    "function qp_controller(pos_cur, vel_cur, pos_des, vel_des)\n",
    "    model = Model(solver=IpoptSolver(print_level=0))\n",
    "    \n",
    "    # Decision variables\n",
    "    @variables model begin\n",
    "        -max_acceleration <= acceleration[1:2] <= max_acceleration\n",
    "    end\n",
    "\n",
    "    # Manual warm-start\n",
    "#     if isdefined(:prev_solution)\n",
    "#         setvalue(acceleration, prev_solution)\n",
    "#     end\n",
    "    \n",
    "    # Don't really need dynamics constraint because the dynamics model is just F=m*a\n",
    "    \n",
    "    # Cost function: spring damper behavior (PD controller) on \\ddot{p} between current and goal\n",
    "    # TODO try converting this to Q, C matrices\n",
    "    @objective(model, Min, sum((kp*(pos_des - pos_cur) + kd*(vel_des - vel_cur) - acceleration).^2))\n",
    "\n",
    "    solve(model)\n",
    "#     global prev_solution = getvalue(acceleration)\n",
    "    return getvalue(acceleration)\n",
    "end"
   ]
  },
  {
   "cell_type": "code",
   "execution_count": 5,
   "metadata": {},
   "outputs": [
    {
     "name": "stdout",
     "output_type": "stream",
     "text": [
      "\n",
      "******************************************************************************\n",
      "This program contains Ipopt, a library for large-scale nonlinear optimization.\n",
      " Ipopt is released as open source code under the Eclipse Public License (EPL).\n",
      "         For more information visit http://projects.coin-or.org/Ipopt\n",
      "******************************************************************************\n",
      "\n"
     ]
    },
    {
     "name": "stderr",
     "output_type": "stream",
     "text": [
      "\u001b[1m\u001b[36mINFO: \u001b[39m\u001b[22m\u001b[36mSaved animation to /Users/Kazu/Code/julia/JuliaExperiments/img/qp_traj.gif\n",
      "\u001b[39m"
     ]
    },
    {
     "data": {
      "text/html": [
       "<img src=\"img/qp_traj.gif?0.3649176017718949>\" />"
      ],
      "text/plain": [
       "Plots.AnimatedGif(\"/Users/Kazu/Code/julia/JuliaExperiments/img/qp_traj.gif\")"
      ]
     },
     "execution_count": 5,
     "metadata": {},
     "output_type": "execute_result"
    }
   ],
   "source": [
    "pos_des = [-1,1]\n",
    "vel_des = [0,0]\n",
    "q = [1,0]\n",
    "v = [0,0]\n",
    "\n",
    "anim = @animate for i in 1:75\n",
    "    # Plot the current and goal positions\n",
    "    plot([pos_des[1]], [pos_des[2]], marker=(:circle, 5), xlim=(-2.1, 2.1), ylim=(-2.1, 2.1), legend=:none)\n",
    "    plot!([q[1]], [q[2]], marker=(:circle, 10))\n",
    "    \n",
    "    # Run the MPC control optimization\n",
    "#     tic()\n",
    "    accel = qp_controller(q, v, pos_des, vel_des)\n",
    "#     print(i, \" \")\n",
    "#     toc()\n",
    "    \n",
    "    # Apply the planned acceleration and simulate one step in time\n",
    "    v += accel * Δt\n",
    "    q += v * Δt\n",
    "end\n",
    "\n",
    "gif(anim, \"img/qp_traj.gif\")"
   ]
  },
  {
   "cell_type": "code",
   "execution_count": null,
   "metadata": {
    "collapsed": true
   },
   "outputs": [],
   "source": []
  }
 ],
 "metadata": {
  "kernelspec": {
   "display_name": "Julia 0.6.0",
   "language": "julia",
   "name": "julia-0.6"
  },
  "language_info": {
   "file_extension": ".jl",
   "mimetype": "application/julia",
   "name": "julia",
   "version": "0.6.0"
  }
 },
 "nbformat": 4,
 "nbformat_minor": 2
}

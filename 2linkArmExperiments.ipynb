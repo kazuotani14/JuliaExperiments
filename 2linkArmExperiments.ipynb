{
 "cells": [
  {
   "cell_type": "markdown",
   "metadata": {},
   "source": [
    "**TODO**\n",
    "\n",
    "* get Jacobian working\n",
    "* QP on arm"
   ]
  },
  {
   "cell_type": "code",
   "execution_count": 2,
   "metadata": {},
   "outputs": [
    {
     "name": "stderr",
     "output_type": "stream",
     "text": [
      "WARNING: using OdeIntegrators.step in module Main conflicts with an existing identifier.\n"
     ]
    },
    {
     "data": {
      "text/plain": [
       "Plots.GRBackend()"
      ]
     },
     "execution_count": 2,
     "metadata": {},
     "output_type": "execute_result"
    }
   ],
   "source": [
    "using RigidBodyDynamics\n",
    "using StaticArrays\n",
    "using RigidBodyDynamics.OdeIntegrators\n",
    "using Plots\n",
    "gr()"
   ]
  },
  {
   "cell_type": "code",
   "execution_count": 3,
   "metadata": {
    "scrolled": true
   },
   "outputs": [
    {
     "data": {
      "text/plain": [
       "Spanning tree:\n",
       "Vertex: world (root)\n",
       "  Vertex: upper_link, Edge: shoulder\n",
       "    Vertex: lower_link, Edge: elbow\n",
       "No non-tree joints."
      ]
     },
     "execution_count": 3,
     "metadata": {},
     "output_type": "execute_result"
    }
   ],
   "source": [
    "# Set up mechanism\n",
    "\n",
    "world = RigidBody{Float64}(\"world\")\n",
    "g = -9.81 # gravitational acceleration in z-direction\n",
    "twolinkarm = Mechanism(world; gravity = SVector(0, 0, g))\n",
    "\n",
    "# Parameters \n",
    "axis = SVector(0., 1., 0.) # joint axis\n",
    "I_1 = 0.333 # moment of inertia about joint axis\n",
    "c_1 = -0.5 # center of mass location with respect to joint axis\n",
    "m_1 = 1. # mass\n",
    "\n",
    "l_1 = -1. # length of the upper link\n",
    "I_2 = 0.333 # moment of inertia about joint axis\n",
    "c_2 = -0.5 # center of mass location with respect to joint axis\n",
    "m_2 = 1. # mass\n",
    "\n",
    "# Add links\n",
    "frame1 = CartesianFrame3D(\"upper_link\") # the reference frame in which the spatial inertia will be expressed\n",
    "inertia1 = SpatialInertia(frame1, I_1 * axis * axis.', m_1 * SVector(0, 0, c_1), m_1)\n",
    "link1 = RigidBody(inertia1)\n",
    "shoulder = Joint(\"shoulder\", Revolute(axis))\n",
    "beforeShoulderToWorld = eye(Transform3D, frame_before(shoulder), default_frame(world))\n",
    "attach!(twolinkarm, world, shoulder, beforeShoulderToWorld, link1)\n",
    "\n",
    "inertia2 = SpatialInertia(CartesianFrame3D(\"lower_link\"), I_2 * axis * axis.', m_2 * SVector(0, 0, c_2), m_2)\n",
    "link2 = RigidBody(inertia2)\n",
    "elbow = Joint(\"elbow\", Revolute(axis))\n",
    "beforeElbowToAfterShoulder = Transform3D(frame_before(elbow), shoulder.frameAfter, SVector(0, 0, l_1))\n",
    "attach!(twolinkarm, link1, elbow, beforeElbowToAfterShoulder, link2)"
   ]
  },
  {
   "cell_type": "code",
   "execution_count": 4,
   "metadata": {
    "collapsed": true
   },
   "outputs": [],
   "source": [
    "# Set initial state\n",
    "state = MechanismState{Float64}(twolinkarm)\n",
    "configuration(state, shoulder)[:] = 0.\n",
    "configuration(state, elbow)[:] = 0.0\n",
    "velocity(state, shoulder)[:] = 0.\n",
    "velocity(state, elbow)[:] = 0.;\n",
    "\n",
    "setdirty!(state)"
   ]
  },
  {
   "cell_type": "code",
   "execution_count": 5,
   "metadata": {
    "collapsed": true,
    "scrolled": true
   },
   "outputs": [],
   "source": [
    "function controller(state)\n",
    "    # TODO add calculations of required tau - try PID\n",
    "    q = configuration(state)\n",
    "    v = velocity(state)\n",
    "    kp = 1.5; kd = 2*sqrt(kp);\n",
    "    pid(cur, des) = kp.*(des[1]-cur[1]) + kd.*(des[2]-cur[2])\n",
    "    \n",
    "    j1_des = [0,0]\n",
    "    j2_des = [0,0]\n",
    "    tau = [pid([q[1],v[1]], j1_des), pid([q[2],v[2]], j2_des)]\n",
    "end\n",
    "\n",
    "result = DynamicsResult{Float64}(twolinkarm)\n",
    "function controlled_dynamics!(vd::AbstractArray, sd::AbstractArray, t, state)\n",
    "    tau = controller(state)\n",
    "    dynamics!(result, state, tau)\n",
    "    copy!(vd, result.v̇)\n",
    "    copy!(sd, result.ṡ) \n",
    "end\n",
    "\n",
    "dyn! = controlled_dynamics!\n",
    "# const dyn! = damped_dynamics!\n",
    "# sink = DrakeVisualizerSink(vis)\n",
    "sink = ExpandingStorage{Float64}(10000)\n",
    "integrator = MuntheKaasIntegrator(dyn!, runge_kutta_4(Float64), sink);"
   ]
  },
  {
   "cell_type": "code",
   "execution_count": 6,
   "metadata": {},
   "outputs": [
    {
     "data": {
      "text/plain": [
       "plot_two_link_arm (generic function with 1 method)"
      ]
     },
     "execution_count": 6,
     "metadata": {},
     "output_type": "execute_result"
    }
   ],
   "source": [
    "function plot_two_link_arm(q)\n",
    "    # TODO figure out transforms in RigidBodyDynamics to allow plotting of arbitrary trees\n",
    "    theta1 = q[1]-pi/2\n",
    "    theta2 = q[2]\n",
    "    shoulder = [0,0]\n",
    "    elbow = shoulder + 1*[cos.(theta1), sin.(theta1)]\n",
    "    hand = elbow + 1*[cos.(theta1+theta2), sin.(theta1+theta2)]\n",
    "    \n",
    "    plot([0,elbow[1]],[0,elbow[2]], linewidth=5, marker=(:circle,10), color=:orange, legend=:none, xlim=(-2.1,2.1), ylim=(-2.1,2.1))\n",
    "    plot!([elbow[1], hand[1]],[elbow[2], hand[2]], linewidth=5, marker=(:circle,10), color=:orange)\n",
    "    plot!(xlabel=\"x\", ylabel=\"z\")\n",
    "end"
   ]
  },
  {
   "cell_type": "code",
   "execution_count": 74,
   "metadata": {},
   "outputs": [
    {
     "name": "stderr",
     "output_type": "stream",
     "text": [
      "\u001b[1m\u001b[36mINFO: \u001b[39m\u001b[22m\u001b[36mSaved animation to /Users/Kazu/Code/julia/JuliaExperiments/img/arm_random.gif\n",
      "\u001b[39m"
     ]
    },
    {
     "data": {
      "text/html": [
       "<img src=\"img/arm_random.gif?0.1809278551026654>\" />"
      ],
      "text/plain": [
       "Plots.AnimatedGif(\"/Users/Kazu/Code/julia/JuliaExperiments/img/arm_random.gif\")"
      ]
     },
     "execution_count": 74,
     "metadata": {},
     "output_type": "execute_result"
    }
   ],
   "source": [
    "# Initial conditions\n",
    "configuration(state, shoulder)[:] = 0.3\n",
    "configuration(state, elbow)[:] = 0.4\n",
    "velocity(state, shoulder)[:] = 0.\n",
    "velocity(state, elbow)[:] = 0.;\n",
    "\n",
    "anim = Animation()\n",
    "integrate(integrator, state, 5.0, 1e-3, maxRealtimeRate = Inf)\n",
    "qs = sink.qs\n",
    "for i in 1:100:length(qs)\n",
    "    plot_two_link_arm(qs[i])\n",
    "    frame(anim)\n",
    "end \n",
    "\n",
    "gif(anim, \"img/arm_random.gif\")"
   ]
  },
  {
   "cell_type": "code",
   "execution_count": 8,
   "metadata": {},
   "outputs": [
    {
     "data": {
      "text/plain": [
       "3×2 Array{Float64,2}:\n",
       " 0.0   0.999639 \n",
       " 0.0   0.0      \n",
       " 0.0  -0.0268753"
      ]
     },
     "execution_count": 8,
     "metadata": {},
     "output_type": "execute_result"
    }
   ],
   "source": [
    "nv = num_velocities(state)\n",
    "\n",
    "bodyframe = default_frame(link2)\n",
    "baseframe = default_frame(world)\n",
    "jacobian = GeometricJacobian(bodyframe, baseframe, baseframe, Matrix{Float64}(3, nv), Matrix{Float64}(3, nv))\n",
    "p = path(twolinkarm, link2, world)\n",
    "geometric_jacobian!(jacobian, state, path(twolinkarm, world, link2))\n",
    "jacobian.linear"
   ]
  },
  {
   "cell_type": "code",
   "execution_count": 9,
   "metadata": {},
   "outputs": [
    {
     "data": {
      "text/plain": [
       "3×2 Array{Float64,2}:\n",
       " 2.0          1.0        \n",
       " 0.0          0.0        \n",
       " 1.22465e-16  6.12323e-17"
      ]
     },
     "execution_count": 9,
     "metadata": {},
     "output_type": "execute_result"
    }
   ],
   "source": [
    "using ForwardDiff\n",
    "\n",
    "# Manual jacobian\n",
    "function handpos_from_config(q::Vector)\n",
    "    [cos(q[1]-pi/2)+cos(q[1]-pi/2+q[2]), 0, sin(q[1]-pi/2)+sin(q[1]-pi/2+q[2])]\n",
    "end\n",
    "\n",
    "J_hand = x -> ForwardDiff.jacobian(handpos_from_config,x)\n",
    "J_hand([0,0])"
   ]
  },
  {
   "cell_type": "code",
   "execution_count": 78,
   "metadata": {
    "scrolled": true
   },
   "outputs": [
    {
     "data": {
      "text/plain": [
       "Transform3D from \"after_elbow\" to \"world\":\n",
       "rotation: 0.6999934072230988 rad about [1.53644e-8, 1.0, 0.0], translation: [-0.295521, 0.0, -0.955336]"
      ]
     },
     "execution_count": 78,
     "metadata": {},
     "output_type": "execute_result"
    }
   ],
   "source": [
    "center_of_mass(state)\n",
    "\n",
    "configuration(state, shoulder)[:] = pi/2\n",
    "configuration(state, elbow)[:] = pi/2\n",
    "\n",
    "transform_to_root(state, elbow.frameAfter)\n",
    "# mass_matrix(state)"
   ]
  },
  {
   "cell_type": "code",
   "execution_count": 79,
   "metadata": {},
   "outputs": [
    {
     "data": {
      "text/html": [
       "<?xml version=\"1.0\" encoding=\"utf-8\"?>\n",
       "<svg xmlns=\"http://www.w3.org/2000/svg\" xmlns:xlink=\"http://www.w3.org/1999/xlink\" width=\"600\" height=\"400\" viewBox=\"0 0 600 400\">\n",
       "<defs>\n",
       "  <clipPath id=\"clip00\">\n",
       "    <rect x=\"0\" y=\"0\" width=\"600\" height=\"400\"/>\n",
       "  </clipPath>\n",
       "</defs>\n",
       "<polygon clip-path=\"url(#clip00)\" points=\"\n",
       "0,400 600,400 600,0 0,0 \n",
       "  \" fill=\"#ffffff\" fill-opacity=\"1\"/>\n",
       "<defs>\n",
       "  <clipPath id=\"clip01\">\n",
       "    <rect x=\"120\" y=\"0\" width=\"421\" height=\"400\"/>\n",
       "  </clipPath>\n",
       "</defs>\n",
       "<polygon clip-path=\"url(#clip00)\" points=\"\n",
       "55.1181,360.63 592.126,360.63 592.126,7.87402 55.1181,7.87402 \n",
       "  \" fill=\"#ffffff\" fill-opacity=\"1\"/>\n",
       "<defs>\n",
       "  <clipPath id=\"clip02\">\n",
       "    <rect x=\"55\" y=\"7\" width=\"538\" height=\"354\"/>\n",
       "  </clipPath>\n",
       "</defs>\n",
       "<polyline clip-path=\"url(#clip02)\" style=\"stroke:#000000; stroke-width:1; stroke-opacity:0.5; fill:none\" stroke-dasharray=\"1, 2\" points=\"\n",
       "  67.904,355.339 67.904,13.1654 \n",
       "  \"/>\n",
       "<polyline clip-path=\"url(#clip02)\" style=\"stroke:#000000; stroke-width:1; stroke-opacity:0.5; fill:none\" stroke-dasharray=\"1, 2\" points=\"\n",
       "  195.763,355.339 195.763,13.1654 \n",
       "  \"/>\n",
       "<polyline clip-path=\"url(#clip02)\" style=\"stroke:#000000; stroke-width:1; stroke-opacity:0.5; fill:none\" stroke-dasharray=\"1, 2\" points=\"\n",
       "  323.622,355.339 323.622,13.1654 \n",
       "  \"/>\n",
       "<polyline clip-path=\"url(#clip02)\" style=\"stroke:#000000; stroke-width:1; stroke-opacity:0.5; fill:none\" stroke-dasharray=\"1, 2\" points=\"\n",
       "  451.481,355.339 451.481,13.1654 \n",
       "  \"/>\n",
       "<polyline clip-path=\"url(#clip02)\" style=\"stroke:#000000; stroke-width:1; stroke-opacity:0.5; fill:none\" stroke-dasharray=\"1, 2\" points=\"\n",
       "  579.34,355.339 579.34,13.1654 \n",
       "  \"/>\n",
       "<polyline clip-path=\"url(#clip02)\" style=\"stroke:#000000; stroke-width:1; stroke-opacity:0.5; fill:none\" stroke-dasharray=\"1, 2\" points=\"\n",
       "  63.1732,352.231 584.071,352.231 \n",
       "  \"/>\n",
       "<polyline clip-path=\"url(#clip02)\" style=\"stroke:#000000; stroke-width:1; stroke-opacity:0.5; fill:none\" stroke-dasharray=\"1, 2\" points=\"\n",
       "  63.1732,268.241 584.071,268.241 \n",
       "  \"/>\n",
       "<polyline clip-path=\"url(#clip02)\" style=\"stroke:#000000; stroke-width:1; stroke-opacity:0.5; fill:none\" stroke-dasharray=\"1, 2\" points=\"\n",
       "  63.1732,184.252 584.071,184.252 \n",
       "  \"/>\n",
       "<polyline clip-path=\"url(#clip02)\" style=\"stroke:#000000; stroke-width:1; stroke-opacity:0.5; fill:none\" stroke-dasharray=\"1, 2\" points=\"\n",
       "  63.1732,100.262 584.071,100.262 \n",
       "  \"/>\n",
       "<polyline clip-path=\"url(#clip02)\" style=\"stroke:#000000; stroke-width:1; stroke-opacity:0.5; fill:none\" stroke-dasharray=\"1, 2\" points=\"\n",
       "  63.1732,16.273 584.071,16.273 \n",
       "  \"/>\n",
       "<polyline clip-path=\"url(#clip00)\" style=\"stroke:#000000; stroke-width:1; stroke-opacity:1; fill:none\" points=\"\n",
       "  55.1181,360.63 592.126,360.63 \n",
       "  \"/>\n",
       "<polyline clip-path=\"url(#clip00)\" style=\"stroke:#000000; stroke-width:1; stroke-opacity:1; fill:none\" points=\"\n",
       "  67.904,360.63 67.904,355.339 \n",
       "  \"/>\n",
       "<polyline clip-path=\"url(#clip00)\" style=\"stroke:#000000; stroke-width:1; stroke-opacity:1; fill:none\" points=\"\n",
       "  195.763,360.63 195.763,355.339 \n",
       "  \"/>\n",
       "<polyline clip-path=\"url(#clip00)\" style=\"stroke:#000000; stroke-width:1; stroke-opacity:1; fill:none\" points=\"\n",
       "  323.622,360.63 323.622,355.339 \n",
       "  \"/>\n",
       "<polyline clip-path=\"url(#clip00)\" style=\"stroke:#000000; stroke-width:1; stroke-opacity:1; fill:none\" points=\"\n",
       "  451.481,360.63 451.481,355.339 \n",
       "  \"/>\n",
       "<polyline clip-path=\"url(#clip00)\" style=\"stroke:#000000; stroke-width:1; stroke-opacity:1; fill:none\" points=\"\n",
       "  579.34,360.63 579.34,355.339 \n",
       "  \"/>\n",
       "<polyline clip-path=\"url(#clip00)\" style=\"stroke:#000000; stroke-width:1; stroke-opacity:1; fill:none\" points=\"\n",
       "  55.1181,360.63 55.1181,7.87402 \n",
       "  \"/>\n",
       "<polyline clip-path=\"url(#clip00)\" style=\"stroke:#000000; stroke-width:1; stroke-opacity:1; fill:none\" points=\"\n",
       "  55.1181,352.231 63.1732,352.231 \n",
       "  \"/>\n",
       "<polyline clip-path=\"url(#clip00)\" style=\"stroke:#000000; stroke-width:1; stroke-opacity:1; fill:none\" points=\"\n",
       "  55.1181,268.241 63.1732,268.241 \n",
       "  \"/>\n",
       "<polyline clip-path=\"url(#clip00)\" style=\"stroke:#000000; stroke-width:1; stroke-opacity:1; fill:none\" points=\"\n",
       "  55.1181,184.252 63.1732,184.252 \n",
       "  \"/>\n",
       "<polyline clip-path=\"url(#clip00)\" style=\"stroke:#000000; stroke-width:1; stroke-opacity:1; fill:none\" points=\"\n",
       "  55.1181,100.262 63.1732,100.262 \n",
       "  \"/>\n",
       "<polyline clip-path=\"url(#clip00)\" style=\"stroke:#000000; stroke-width:1; stroke-opacity:1; fill:none\" points=\"\n",
       "  55.1181,16.273 63.1732,16.273 \n",
       "  \"/>\n",
       "<g clip-path=\"url(#clip00)\">\n",
       "<text style=\"fill:#000000; fill-opacity:1; font-family:Arial,Helvetica Neue,Helvetica,sans-serif; font-size:12; text-anchor:middle;\" transform=\"rotate(0, 67.904, 374.43)\" x=\"67.904\" y=\"374.43\">-2</text>\n",
       "</g>\n",
       "<g clip-path=\"url(#clip00)\">\n",
       "<text style=\"fill:#000000; fill-opacity:1; font-family:Arial,Helvetica Neue,Helvetica,sans-serif; font-size:12; text-anchor:middle;\" transform=\"rotate(0, 195.763, 374.43)\" x=\"195.763\" y=\"374.43\">-1</text>\n",
       "</g>\n",
       "<g clip-path=\"url(#clip00)\">\n",
       "<text style=\"fill:#000000; fill-opacity:1; font-family:Arial,Helvetica Neue,Helvetica,sans-serif; font-size:12; text-anchor:middle;\" transform=\"rotate(0, 323.622, 374.43)\" x=\"323.622\" y=\"374.43\">0</text>\n",
       "</g>\n",
       "<g clip-path=\"url(#clip00)\">\n",
       "<text style=\"fill:#000000; fill-opacity:1; font-family:Arial,Helvetica Neue,Helvetica,sans-serif; font-size:12; text-anchor:middle;\" transform=\"rotate(0, 451.481, 374.43)\" x=\"451.481\" y=\"374.43\">1</text>\n",
       "</g>\n",
       "<g clip-path=\"url(#clip00)\">\n",
       "<text style=\"fill:#000000; fill-opacity:1; font-family:Arial,Helvetica Neue,Helvetica,sans-serif; font-size:12; text-anchor:middle;\" transform=\"rotate(0, 579.34, 374.43)\" x=\"579.34\" y=\"374.43\">2</text>\n",
       "</g>\n",
       "<g clip-path=\"url(#clip00)\">\n",
       "<text style=\"fill:#000000; fill-opacity:1; font-family:Arial,Helvetica Neue,Helvetica,sans-serif; font-size:12; text-anchor:end;\" transform=\"rotate(0, 49.1181, 356.731)\" x=\"49.1181\" y=\"356.731\">-2</text>\n",
       "</g>\n",
       "<g clip-path=\"url(#clip00)\">\n",
       "<text style=\"fill:#000000; fill-opacity:1; font-family:Arial,Helvetica Neue,Helvetica,sans-serif; font-size:12; text-anchor:end;\" transform=\"rotate(0, 49.1181, 272.741)\" x=\"49.1181\" y=\"272.741\">-1</text>\n",
       "</g>\n",
       "<g clip-path=\"url(#clip00)\">\n",
       "<text style=\"fill:#000000; fill-opacity:1; font-family:Arial,Helvetica Neue,Helvetica,sans-serif; font-size:12; text-anchor:end;\" transform=\"rotate(0, 49.1181, 188.752)\" x=\"49.1181\" y=\"188.752\">0</text>\n",
       "</g>\n",
       "<g clip-path=\"url(#clip00)\">\n",
       "<text style=\"fill:#000000; fill-opacity:1; font-family:Arial,Helvetica Neue,Helvetica,sans-serif; font-size:12; text-anchor:end;\" transform=\"rotate(0, 49.1181, 104.762)\" x=\"49.1181\" y=\"104.762\">1</text>\n",
       "</g>\n",
       "<g clip-path=\"url(#clip00)\">\n",
       "<text style=\"fill:#000000; fill-opacity:1; font-family:Arial,Helvetica Neue,Helvetica,sans-serif; font-size:12; text-anchor:end;\" transform=\"rotate(0, 49.1181, 20.773)\" x=\"49.1181\" y=\"20.773\">2</text>\n",
       "</g>\n",
       "<g clip-path=\"url(#clip00)\">\n",
       "<text style=\"fill:#000000; fill-opacity:1; font-family:Arial,Helvetica Neue,Helvetica,sans-serif; font-size:16; text-anchor:middle;\" transform=\"rotate(0, 323.622, 397.6)\" x=\"323.622\" y=\"397.6\">x</text>\n",
       "</g>\n",
       "<g clip-path=\"url(#clip00)\">\n",
       "<text style=\"fill:#000000; fill-opacity:1; font-family:Arial,Helvetica Neue,Helvetica,sans-serif; font-size:16; text-anchor:middle;\" transform=\"rotate(-90, 14.4, 184.252)\" x=\"14.4\" y=\"184.252\">z</text>\n",
       "</g>\n",
       "<polyline clip-path=\"url(#clip02)\" style=\"stroke:#ffa500; stroke-width:5; stroke-opacity:1; fill:none\" points=\"\n",
       "  323.622,184.252 451.481,184.252 \n",
       "  \"/>\n",
       "<circle clip-path=\"url(#clip02)\" style=\"fill:#000000; stroke:none; fill-opacity:1\" cx=\"323.622\" cy=\"184.252\" r=\"9\"/>\n",
       "<circle clip-path=\"url(#clip02)\" style=\"fill:#ffa500; stroke:none; fill-opacity:1\" cx=\"323.622\" cy=\"184.252\" r=\"9\"/>\n",
       "<circle clip-path=\"url(#clip02)\" style=\"fill:#000000; stroke:none; fill-opacity:1\" cx=\"451.481\" cy=\"184.252\" r=\"9\"/>\n",
       "<circle clip-path=\"url(#clip02)\" style=\"fill:#ffa500; stroke:none; fill-opacity:1\" cx=\"451.481\" cy=\"184.252\" r=\"9\"/>\n",
       "<polyline clip-path=\"url(#clip02)\" style=\"stroke:#ffa500; stroke-width:5; stroke-opacity:1; fill:none\" points=\"\n",
       "  451.481,184.252 451.481,100.262 \n",
       "  \"/>\n",
       "<circle clip-path=\"url(#clip02)\" style=\"fill:#000000; stroke:none; fill-opacity:1\" cx=\"451.481\" cy=\"184.252\" r=\"9\"/>\n",
       "<circle clip-path=\"url(#clip02)\" style=\"fill:#ffa500; stroke:none; fill-opacity:1\" cx=\"451.481\" cy=\"184.252\" r=\"9\"/>\n",
       "<circle clip-path=\"url(#clip02)\" style=\"fill:#000000; stroke:none; fill-opacity:1\" cx=\"451.481\" cy=\"100.262\" r=\"9\"/>\n",
       "<circle clip-path=\"url(#clip02)\" style=\"fill:#ffa500; stroke:none; fill-opacity:1\" cx=\"451.481\" cy=\"100.262\" r=\"9\"/>\n",
       "</svg>\n"
      ]
     },
     "execution_count": 79,
     "metadata": {},
     "output_type": "execute_result"
    }
   ],
   "source": [
    "plot_two_link_arm(state.q)"
   ]
  },
  {
   "cell_type": "code",
   "execution_count": 11,
   "metadata": {},
   "outputs": [
    {
     "data": {
      "text/plain": [
       "2×2 Symmetric{Float64,Array{Float64,2}}:\n",
       " 2.66594   0.832972\n",
       " 0.832972  0.333   "
      ]
     },
     "execution_count": 11,
     "metadata": {},
     "output_type": "execute_result"
    }
   ],
   "source": [
    "M = result.massmatrix"
   ]
  },
  {
   "cell_type": "code",
   "execution_count": 12,
   "metadata": {},
   "outputs": [
    {
     "data": {
      "text/plain": [
       "2-element Array{Float64,1}:\n",
       " 0.579272\n",
       " 0.183931"
      ]
     },
     "execution_count": 12,
     "metadata": {},
     "output_type": "execute_result"
    }
   ],
   "source": [
    "N = result.dynamicsbias"
   ]
  },
  {
   "cell_type": "code",
   "execution_count": 14,
   "metadata": {
    "collapsed": true
   },
   "outputs": [],
   "source": [
    "using JuMP, Ipopt"
   ]
  },
  {
   "cell_type": "code",
   "execution_count": 81,
   "metadata": {},
   "outputs": [
    {
     "data": {
      "text/plain": [
       "qp_controller (generic function with 2 methods)"
      ]
     },
     "execution_count": 81,
     "metadata": {},
     "output_type": "execute_result"
    }
   ],
   "source": [
    "# Constants\n",
    "Δt = 0.1\n",
    "num_time_steps = 20\n",
    "max_acceleration = 0.5\n",
    "max_torque = 10\n",
    "kp = 1.5\n",
    "kd = 2*sqrt(1.)\n",
    "\n",
    "function qp_controller(q::Array, q̇::Array, p_des::Array)\n",
    "    model = Model(solver=IpoptSolver(print_level=0))\n",
    "    \n",
    "    # Decision variables\n",
    "    @variables model begin\n",
    "        -max_acceleration <= q̈[1:2] <= max_acceleration\n",
    "        -max_torque <= τ[1:2] <= max_torque\n",
    "    end\n",
    "    \n",
    "    # TODO dynamics constraints, incorporate torque constraints?\n",
    "    M = result.massmatrix\n",
    "    N = result.dynamicsbias\n",
    "    @constraint(model, M*q̈+N .== τ)\n",
    "    \n",
    "    # Cost function: spring damper behavior (PD controller) on \\ddot{p} between current and goal\n",
    "    # TODO try converting this to Q, C matrices\n",
    "    J = J_hand(q)\n",
    "    Q = J'*J\n",
    "    # TODO calculate p and v\n",
    "    p = handpos_from_config(q)\n",
    "    v = J*q̇\n",
    "#     c = kp*(p_des-p) - kd*v # TODO add jacobian_dot\n",
    "    c = kp*(p_des[[1,3]]-p[[1,3]]) - kd*v[[1,3]]\n",
    "    \n",
    "    @objective(model, Min, q̈'*Q*q̈ + c'*q̈)\n",
    "\n",
    "    solve(model)\n",
    "    return getvalue(q̈)\n",
    "end"
   ]
  },
  {
   "cell_type": "code",
   "execution_count": 82,
   "metadata": {},
   "outputs": [
    {
     "data": {
      "text/plain": [
       "2-element Array{Float64,1}:\n",
       " -1.52628\n",
       " -1.50275"
      ]
     },
     "execution_count": 82,
     "metadata": {},
     "output_type": "execute_result"
    }
   ],
   "source": [
    "    model = Model(solver=IpoptSolver(print_level=0))\n",
    "    \n",
    "    # Decision variables\n",
    "    @variables model begin\n",
    "        -max_acceleration <= q̈[1:2] <= max_acceleration\n",
    "        -max_torque <= τ[1:2] <= max_torque\n",
    "    end\n",
    "    \n",
    "    # TODO dynamics constraints, incorporate torque constraints?\n",
    "    M = result.massmatrix\n",
    "    N = result.dynamicsbias\n",
    "    @constraint(model, M*q̈+N .== τ)\n",
    "    \n",
    "    # Cost function: spring damper behavior (PD controller) on \\ddot{p} between current and goal\n",
    "    # TODO try converting this to Q, C matrices\n",
    "    J = J_hand(q)\n",
    "    Q = J'*J\n",
    "#     # TODO calculate p and v\n",
    "    p = handpos_from_config(q)\n",
    "    v = J*q̇\n",
    "    p_des = [0,0,0]\n",
    "    c = kp*(p_des[[1,3]]-p[[1,3]]) - kd*v[[1,3]] # TODO add jacobian_dot\n",
    "    \n",
    "#     @objective(model, Min, q̈'*Q*q̈ + c'*q̈)\n"
   ]
  },
  {
   "cell_type": "code",
   "execution_count": 83,
   "metadata": {},
   "outputs": [
    {
     "data": {
      "text/plain": [
       "2-element Array{Int64,1}:\n",
       " 1\n",
       " 3"
      ]
     },
     "execution_count": 83,
     "metadata": {},
     "output_type": "execute_result"
    }
   ],
   "source": [
    "test = [1,2,3]\n",
    "test[[1,3]]"
   ]
  },
  {
   "cell_type": "code",
   "execution_count": 84,
   "metadata": {},
   "outputs": [
    {
     "data": {
      "text/plain": [
       "2-element Array{Float64,1}:\n",
       "  0.00137477\n",
       " -0.0145133 "
      ]
     },
     "execution_count": 84,
     "metadata": {},
     "output_type": "execute_result"
    }
   ],
   "source": [
    "q = configuration(state)\n",
    "q̇ = velocity(state)"
   ]
  },
  {
   "cell_type": "code",
   "execution_count": 86,
   "metadata": {},
   "outputs": [
    {
     "data": {
      "text/plain": [
       "2-element Array{Float64,1}:\n",
       " 0.131569\n",
       " 0.5     "
      ]
     },
     "execution_count": 86,
     "metadata": {},
     "output_type": "execute_result"
    }
   ],
   "source": [
    "qp_controller(q, q̇, [0.0, 0.0, 0.0])"
   ]
  },
  {
   "cell_type": "code",
   "execution_count": null,
   "metadata": {
    "collapsed": true
   },
   "outputs": [],
   "source": []
  },
  {
   "cell_type": "code",
   "execution_count": null,
   "metadata": {
    "collapsed": true
   },
   "outputs": [],
   "source": []
  }
 ],
 "metadata": {
  "kernelspec": {
   "display_name": "Julia 0.6.0",
   "language": "julia",
   "name": "julia-0.6"
  },
  "language_info": {
   "file_extension": ".jl",
   "mimetype": "application/julia",
   "name": "julia",
   "version": "0.6.0"
  }
 },
 "nbformat": 4,
 "nbformat_minor": 2
}

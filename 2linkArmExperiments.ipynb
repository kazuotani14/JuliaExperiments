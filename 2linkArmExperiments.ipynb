{
 "cells": [
  {
   "cell_type": "markdown",
   "metadata": {},
   "source": [
    "**TODO**\n",
    "\n",
    "* figure out how to use RigidBodyDynamics"
   ]
  },
  {
   "cell_type": "code",
   "execution_count": 1,
   "metadata": {
    "collapsed": true
   },
   "outputs": [],
   "source": [
    "using RigidBodyDynamics\n",
    "using StaticArrays"
   ]
  },
  {
   "cell_type": "code",
   "execution_count": 18,
   "metadata": {},
   "outputs": [
    {
     "data": {
      "text/plain": [
       "Spanning tree:\n",
       "Vertex: world (root)\n",
       "No non-tree joints."
      ]
     },
     "execution_count": 18,
     "metadata": {},
     "output_type": "execute_result"
    }
   ],
   "source": [
    "g = -9.81 # gravitational acceleration in z-direction\n",
    "world = RigidBody{Float64}(\"world\")\n",
    "twolinkarm = Mechanism(world; gravity = SVector(0, 0, g))"
   ]
  },
  {
   "cell_type": "code",
   "execution_count": 20,
   "metadata": {
    "scrolled": true
   },
   "outputs": [
    {
     "data": {
      "text/plain": [
       "Spanning tree:\n",
       "Vertex: world (root)\n",
       "  Vertex: upper_link, Edge: shoulder\n",
       "No non-tree joints."
      ]
     },
     "execution_count": 20,
     "metadata": {},
     "output_type": "execute_result"
    }
   ],
   "source": [
    "axis = SVector(0., 0., 1.) # joint axis\n",
    "I_1 = 0.333 # moment of inertia about joint axis\n",
    "c_1 = -0.5 # center of mass location with respect to joint axis\n",
    "m_1 = 1. # mass\n",
    "frame1 = CartesianFrame3D(\"upper_link\") # the reference frame in which the spatial inertia will be expressed\n",
    "inertia1 = SpatialInertia(frame1, I_1 * axis * axis.', m_1 * SVector(0, 0, c_1), m_1)\n",
    "upperlink = RigidBody(inertia1)\n",
    "shoulder = Joint(\"shoulder\", Revolute(axis))\n",
    "beforeShoulderToWorld = eye(Transform3D, frame_before(shoulder), default_frame(world))\n",
    "attach!(twolinkarm, world, shoulder, beforeShoulderToWorld, upperlink)"
   ]
  },
  {
   "cell_type": "code",
   "execution_count": 21,
   "metadata": {},
   "outputs": [
    {
     "data": {
      "text/plain": [
       "Spanning tree:\n",
       "Vertex: world (root)\n",
       "  Vertex: upper_link, Edge: shoulder\n",
       "    Vertex: lower_link, Edge: elbow\n",
       "No non-tree joints."
      ]
     },
     "execution_count": 21,
     "metadata": {},
     "output_type": "execute_result"
    }
   ],
   "source": [
    "l_1 = -1. # length of the upper link\n",
    "I_2 = 0.333 # moment of inertia about joint axis\n",
    "c_2 = -0.5 # center of mass location with respect to joint axis\n",
    "m_2 = 1. # mass\n",
    "inertia2 = SpatialInertia(CartesianFrame3D(\"lower_link\"), I_2 * axis * axis.', m_2 * SVector(0, 0, c_2), m_2)\n",
    "lowerlink = RigidBody(inertia2)\n",
    "elbow = Joint(\"elbow\", Revolute(axis))\n",
    "beforeElbowToAfterShoulder = Transform3D(frame_before(elbow), shoulder.frameAfter, SVector(0, 0, l_1))\n",
    "attach!(twolinkarm, upperlink, elbow, beforeElbowToAfterShoulder, lowerlink)"
   ]
  },
  {
   "cell_type": "code",
   "execution_count": 69,
   "metadata": {},
   "outputs": [
    {
     "data": {
      "text/plain": [
       "2-element Array{Float64,1}:\n",
       " 0.0\n",
       " 0.0"
      ]
     },
     "execution_count": 69,
     "metadata": {},
     "output_type": "execute_result"
    }
   ],
   "source": [
    "state = MechanismState{Float64}(twolinkarm)\n",
    "configuration(state, shoulder)[:] = 0.0\n",
    "configuration(state, elbow)[:] = 0.0\n",
    "velocity(state, shoulder)[:] = 0.0\n",
    "velocity(state, elbow)[:] = 0.0;\n",
    "\n",
    "setdirty!(state)"
   ]
  },
  {
   "cell_type": "code",
   "execution_count": 16,
   "metadata": {
    "collapsed": true
   },
   "outputs": [],
   "source": [
    "ts, qs, vs = simulate(state, 0.1, Δt = 1e-2);"
   ]
  },
  {
   "cell_type": "code",
   "execution_count": 64,
   "metadata": {},
   "outputs": [
    {
     "name": "stderr",
     "output_type": "stream",
     "text": [
      "WARNING: redefining constant tau\n",
      "\u001b[1m\u001b[33mWARNING: \u001b[39m\u001b[22m\u001b[33mDynamicsResult(::Type{T}, mechanism::Mechanism{M}) where {T, M} is deprecated, use DynamicsResult{T}(mechanism) instead.\u001b[39m\n",
      "Stacktrace:\n",
      " [1] \u001b[1mdepwarn\u001b[22m\u001b[22m\u001b[1m(\u001b[22m\u001b[22m::String, ::Symbol\u001b[1m)\u001b[22m\u001b[22m at \u001b[1m./deprecated.jl:70\u001b[22m\u001b[22m\n",
      " [2] \u001b[1mRigidBodyDynamics.DynamicsResult\u001b[22m\u001b[22m\u001b[1m(\u001b[22m\u001b[22m::Type{Float64}, ::RigidBodyDynamics.Mechanism{Float64}\u001b[1m)\u001b[22m\u001b[22m at \u001b[1m./deprecated.jl:57\u001b[22m\u001b[22m\n",
      " [3] \u001b[1minclude_string\u001b[22m\u001b[22m\u001b[1m(\u001b[22m\u001b[22m::String, ::String\u001b[1m)\u001b[22m\u001b[22m at \u001b[1m./loading.jl:515\u001b[22m\u001b[22m\n",
      " [4] \u001b[1minclude_string\u001b[22m\u001b[22m\u001b[1m(\u001b[22m\u001b[22m::Module, ::String, ::String\u001b[1m)\u001b[22m\u001b[22m at \u001b[1m/Users/Kazu/.julia/v0.6/Compat/src/Compat.jl:577\u001b[22m\u001b[22m\n",
      " [5] \u001b[1mexecute_request\u001b[22m\u001b[22m\u001b[1m(\u001b[22m\u001b[22m::ZMQ.Socket, ::IJulia.Msg\u001b[1m)\u001b[22m\u001b[22m at \u001b[1m/Users/Kazu/.julia/v0.6/IJulia/src/execute_request.jl:154\u001b[22m\u001b[22m\n",
      " [6] \u001b[1meventloop\u001b[22m\u001b[22m\u001b[1m(\u001b[22m\u001b[22m::ZMQ.Socket\u001b[1m)\u001b[22m\u001b[22m at \u001b[1m/Users/Kazu/.julia/v0.6/IJulia/src/eventloop.jl:8\u001b[22m\u001b[22m\n",
      " [7] \u001b[1m(::IJulia.##14#17)\u001b[22m\u001b[22m\u001b[1m(\u001b[22m\u001b[22m\u001b[1m)\u001b[22m\u001b[22m at \u001b[1m./task.jl:335\u001b[22m\u001b[22m\n",
      "while loading In[64], in expression starting on line 3\n",
      "WARNING: redefining constant result\n"
     ]
    },
    {
     "data": {
      "text/plain": [
       "RigidBodyDynamics.DynamicsResult{Float64,Float64}(Spanning tree:\n",
       "Vertex: world (root)\n",
       "  Vertex: upper_link, Edge: shoulder\n",
       "    Vertex: lower_link, Edge: elbow\n",
       "No non-tree joints., [2.26153e-314 2.25836e-314; 2.25836e-314 2.25843e-314], [0.0, 0.0], Array{Float64}(0,2), Float64[], [0.0, 0.0], Float64[], Float64[], RigidBodyDynamics.UnsafeFastDict(RigidBody: \"world\"=>Wrench expressed in \"world\":\n",
       "angular: [0.0, 0.0, 0.0], linear: [0.0, 0.0, 0.0],RigidBody: \"upper_link\"=>Wrench expressed in \"world\":\n",
       "angular: [0.0, 0.0, 0.0], linear: [0.0, 0.0, 0.0],RigidBody: \"lower_link\"=>Wrench expressed in \"world\":\n",
       "angular: [0.0, 0.0, 0.0], linear: [0.0, 0.0, 0.0]), RigidBodyDynamics.UnsafeFastDict(RigidBody: \"world\"=>Wrench expressed in \"world\":\n",
       "angular: [0.0, 0.0, 0.0], linear: [0.0, 0.0, 0.0],RigidBody: \"upper_link\"=>Wrench expressed in \"world\":\n",
       "angular: [0.0, 0.0, 0.0], linear: [0.0, 0.0, 0.0],RigidBody: \"lower_link\"=>Wrench expressed in \"world\":\n",
       "angular: [0.0, 0.0, 0.0], linear: [0.0, 0.0, 0.0]), RigidBodyDynamics.UnsafeFastDict(RigidBody: \"world\"=>SpatialAcceleration of \"world\" w.r.t \"world\" in \"world\":\n",
       "angular: [0.0, 0.0, 0.0], linear: [0.0, 0.0, 0.0],RigidBody: \"upper_link\"=>SpatialAcceleration of \"world\" w.r.t \"world\" in \"world\":\n",
       "angular: [0.0, 0.0, 0.0], linear: [0.0, 0.0, 0.0],RigidBody: \"lower_link\"=>SpatialAcceleration of \"world\" w.r.t \"world\" in \"world\":\n",
       "angular: [0.0, 0.0, 0.0], linear: [0.0, 0.0, 0.0]), RigidBodyDynamics.UnsafeFastDict(RigidBody: \"world\"=>Wrench expressed in \"world\":\n",
       "angular: [0.0, 0.0, 0.0], linear: [0.0, 0.0, 0.0],RigidBody: \"upper_link\"=>Wrench expressed in \"world\":\n",
       "angular: [0.0, 0.0, 0.0], linear: [0.0, 0.0, 0.0],RigidBody: \"lower_link\"=>Wrench expressed in \"world\":\n",
       "angular: [0.0, 0.0, 0.0], linear: [0.0, 0.0, 0.0]), RigidBodyDynamics.UnsafeFastDict(RigidBody: \"world\"=>Array{RigidBodyDynamics.Contact.SoftContactStateDeriv{Void,RigidBodyDynamics.Contact.ViscoelasticCoulombStateDeriv{SubArray{Float64,1,Array{Float64,1},Tuple{UnitRange{Int64}},true}}},1}[],RigidBody: \"upper_link\"=>Array{RigidBodyDynamics.Contact.SoftContactStateDeriv{Void,RigidBodyDynamics.Contact.ViscoelasticCoulombStateDeriv{SubArray{Float64,1,Array{Float64,1},Tuple{UnitRange{Int64}},true}}},1}[],RigidBody: \"lower_link\"=>Array{RigidBodyDynamics.Contact.SoftContactStateDeriv{Void,RigidBodyDynamics.Contact.ViscoelasticCoulombStateDeriv{SubArray{Float64,1,Array{Float64,1},Tuple{UnitRange{Int64}},true}}},1}[]), [2.39077e-314 2.25836e-314; 2.29102e-314 4.44659e-323], Array{Float64}(0,0), [0.0, 0.0], Array{Float64}(0,2))"
      ]
     },
     "execution_count": 64,
     "metadata": {},
     "output_type": "execute_result"
    }
   ],
   "source": [
    "num_velocities(twolinkarm)\n",
    "tau = Vector{Float64}(num_velocities(twolinkarm))\n",
    "result = DynamicsResult(Float64, twolinkarm)"
   ]
  },
  {
   "cell_type": "code",
   "execution_count": 107,
   "metadata": {
    "scrolled": true
   },
   "outputs": [
    {
     "name": "stderr",
     "output_type": "stream",
     "text": [
      "WARNING: redefining constant sink\n",
      "WARNING: redefining constant integrator\n"
     ]
    }
   ],
   "source": [
    "function controller(state)\n",
    "    # TODO add calculations of required tau\n",
    "    tau1 = [1., 0.]\n",
    "end\n",
    "\n",
    "function controlled_dynamics!(vd::AbstractArray, sd::AbstractArray, t, state)\n",
    "    tau = controller(state)\n",
    "    dynamics!(result, state, tau)\n",
    "    copy!(vd, result.v̇)\n",
    "    copy!(sd, result.ṡ) \n",
    "end\n",
    "\n",
    "const dyn! = controlled_dynamics!\n",
    "# const dyn! = damped_dynamics!\n",
    "# sink = DrakeVisualizerSink(vis)\n",
    "const sink = ExpandingStorage{Float64}(10000)\n",
    "const integrator = MuntheKaasIntegrator(dyn!, runge_kutta_4(Float64), sink);\n",
    "# integrate(integrator, state, 10., 1e-4, maxRealtimeRate = Inf)"
   ]
  },
  {
   "cell_type": "code",
   "execution_count": 100,
   "metadata": {},
   "outputs": [],
   "source": [
    "integrate(integrator, state, 1e-4, 1e-4, maxRealtimeRate = Inf)"
   ]
  },
  {
   "cell_type": "code",
   "execution_count": 101,
   "metadata": {},
   "outputs": [
    {
     "data": {
      "text/plain": [
       "18-element Array{Array{Float64,1},1}:\n",
       " [0.0, 0.0]               \n",
       " [1.5015e-8, -1.5015e-8]  \n",
       " [6.00601e-8, -6.00601e-8]\n",
       " [6.00601e-8, -6.00601e-8]\n",
       " [1.35135e-7, -1.35135e-7]\n",
       " [2.4024e-7, -2.4024e-7]  \n",
       " [3.75375e-7, -3.75375e-7]\n",
       " [5.40541e-7, -5.40541e-7]\n",
       " [7.35736e-7, -7.35736e-7]\n",
       " [9.60961e-7, -9.60961e-7]\n",
       " [1.21622e-6, -1.21622e-6]\n",
       " [1.5015e-6, -1.5015e-6]  \n",
       " [1.81682e-6, -1.81682e-6]\n",
       " [2.16216e-6, -2.16216e-6]\n",
       " [2.16216e-6, -2.16216e-6]\n",
       " [2.53754e-6, -2.53754e-6]\n",
       " [2.53754e-6, -2.53754e-6]\n",
       " [2.94294e-6, -2.94294e-6]"
      ]
     },
     "execution_count": 101,
     "metadata": {},
     "output_type": "execute_result"
    }
   ],
   "source": [
    "sink.qs"
   ]
  },
  {
   "cell_type": "code",
   "execution_count": 79,
   "metadata": {},
   "outputs": [
    {
     "data": {
      "text/plain": [
       "(Float64[], Float64[], Float64[])"
      ]
     },
     "execution_count": 79,
     "metadata": {},
     "output_type": "execute_result"
    }
   ],
   "source": [
    "stages = integrator.stages\n",
    "q0, v0, s0 = stages.q0, stages.vstep, stages.sstep"
   ]
  },
  {
   "cell_type": "code",
   "execution_count": 86,
   "metadata": {},
   "outputs": [
    {
     "data": {
      "text/plain": [
       "2-element Array{Float64,1}:\n",
       " 0.0\n",
       " 0.0"
      ]
     },
     "execution_count": 86,
     "metadata": {},
     "output_type": "execute_result"
    }
   ],
   "source": [
    "q0 = configuration(state)"
   ]
  },
  {
   "cell_type": "code",
   "execution_count": 81,
   "metadata": {},
   "outputs": [
    {
     "data": {
      "text/plain": [
       "0-element Array{Float64,1}"
      ]
     },
     "execution_count": 81,
     "metadata": {},
     "output_type": "execute_result"
    }
   ],
   "source": [
    "function plot_two_link_arm(state)\n",
    "    # TODO double-check two link lengths\n",
    "    # Use animate?\n",
    "    \n",
    "end"
   ]
  },
  {
   "cell_type": "code",
   "execution_count": null,
   "metadata": {
    "collapsed": true
   },
   "outputs": [],
   "source": []
  }
 ],
 "metadata": {
  "kernelspec": {
   "display_name": "Julia 0.6.0",
   "language": "julia",
   "name": "julia-0.6"
  },
  "language_info": {
   "file_extension": ".jl",
   "mimetype": "application/julia",
   "name": "julia",
   "version": "0.6.0"
  }
 },
 "nbformat": 4,
 "nbformat_minor": 2
}

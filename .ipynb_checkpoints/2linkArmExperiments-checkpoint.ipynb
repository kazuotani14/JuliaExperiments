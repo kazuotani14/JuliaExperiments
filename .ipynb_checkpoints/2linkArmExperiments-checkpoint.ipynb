{
 "cells": [
  {
   "cell_type": "markdown",
   "metadata": {},
   "source": [
    "**TODO**\n",
    "\n",
    "* get Jacobian working\n",
    "* QP on arm"
   ]
  },
  {
   "cell_type": "code",
   "execution_count": 111,
   "metadata": {},
   "outputs": [
    {
     "data": {
      "text/plain": [
       "Plots.GRBackend()"
      ]
     },
     "execution_count": 111,
     "metadata": {},
     "output_type": "execute_result"
    }
   ],
   "source": [
    "using RigidBodyDynamics\n",
    "using StaticArrays\n",
    "using RigidBodyDynamics.OdeIntegrators\n",
    "using Plots\n",
    "gr()"
   ]
  },
  {
   "cell_type": "code",
   "execution_count": 140,
   "metadata": {
    "scrolled": true
   },
   "outputs": [
    {
     "data": {
      "text/plain": [
       "Spanning tree:\n",
       "Vertex: world (root)\n",
       "  Vertex: upper_link, Edge: shoulder\n",
       "    Vertex: lower_link, Edge: elbow\n",
       "No non-tree joints."
      ]
     },
     "execution_count": 140,
     "metadata": {},
     "output_type": "execute_result"
    }
   ],
   "source": [
    "# Set up mechanism\n",
    "\n",
    "g = -9.81 # gravitational acceleration in z-direction\n",
    "world = RigidBody{Float64}(\"world\")\n",
    "twolinkarm = Mechanism(world; gravity = SVector(0, 0, g))\n",
    "\n",
    "# Parameters \n",
    "axis = SVector(0., 1, 0.) # joint axis\n",
    "I_1 = 0.333 # moment of inertia about joint axis\n",
    "c_1 = -0.5 # center of mass location with respect to joint axis\n",
    "m_1 = 1. # mass\n",
    "\n",
    "l_1 = -1. # length of the upper link\n",
    "I_2 = 0.333 # moment of inertia about joint axis\n",
    "c_2 = -0.5 # center of mass location with respect to joint axis\n",
    "m_2 = 1. # mass\n",
    "\n",
    "# Add links\n",
    "frame1 = CartesianFrame3D(\"upper_link\") # the reference frame in which the spatial inertia will be expressed\n",
    "inertia1 = SpatialInertia(frame1, I_1 * axis * axis.', m_1 * SVector(0, 0, c_1), m_1)\n",
    "link1 = RigidBody(inertia1)\n",
    "shoulder = Joint(\"shoulder\", Revolute(axis))\n",
    "beforeShoulderToWorld = eye(Transform3D, frame_before(shoulder), default_frame(world))\n",
    "attach!(twolinkarm, world, shoulder, beforeShoulderToWorld, link1)\n",
    "\n",
    "inertia2 = SpatialInertia(CartesianFrame3D(\"lower_link\"), I_2 * axis * axis.', m_2 * SVector(0, 0, c_2), m_2)\n",
    "link2 = RigidBody(inertia2)\n",
    "elbow = Joint(\"elbow\", Revolute(axis))\n",
    "beforeElbowToAfterShoulder = Transform3D(frame_before(elbow), shoulder.frameAfter, SVector(0, 0, l_1))\n",
    "attach!(twolinkarm, link1, elbow, beforeElbowToAfterShoulder, link2)"
   ]
  },
  {
   "cell_type": "code",
   "execution_count": 141,
   "metadata": {
    "collapsed": true
   },
   "outputs": [],
   "source": [
    "# Set initial state\n",
    "state = MechanismState{Float64}(twolinkarm)\n",
    "configuration(state, shoulder)[:] = 0.\n",
    "configuration(state, elbow)[:] = 0.0\n",
    "velocity(state, shoulder)[:] = 0.\n",
    "velocity(state, elbow)[:] = 0.;\n",
    "\n",
    "setdirty!(state)"
   ]
  },
  {
   "cell_type": "code",
   "execution_count": 142,
   "metadata": {
    "scrolled": false
   },
   "outputs": [
    {
     "data": {
      "text/plain": [
       "GeometricJacobian: body: \"after_shoulder\", base: \"world\", expressed in \"world\":\n",
       "[2.37868e-314 2.37868e-314; 2.37868e-314 2.37868e-314; 2.37868e-314 2.40852e-314; 2.37868e-314 2.37868e-314; 2.37868e-314 2.37868e-314; 2.37868e-314 2.40173e-314]"
      ]
     },
     "execution_count": 142,
     "metadata": {},
     "output_type": "execute_result"
    }
   ],
   "source": [
    "nv = num_velocities(state)\n",
    "\n",
    "bodyframe = frame_after(shoulder)\n",
    "baseframe = default_frame(world)\n",
    "jacobian = GeometricJacobian(bodyframe, baseframe, baseframe, Matrix{Float64}(3, nv), Matrix{Float64}(3, nv))"
   ]
  },
  {
   "cell_type": "code",
   "execution_count": 143,
   "metadata": {
    "scrolled": false
   },
   "outputs": [
    {
     "data": {
      "text/plain": [
       "3×2 Array{Float64,2}:\n",
       " 2.37868e-314  2.37868e-314\n",
       " 2.37868e-314  2.37868e-314\n",
       " 2.37868e-314  2.40173e-314"
      ]
     },
     "execution_count": 143,
     "metadata": {},
     "output_type": "execute_result"
    }
   ],
   "source": [
    "jacobian.linear"
   ]
  },
  {
   "cell_type": "code",
   "execution_count": 144,
   "metadata": {
    "collapsed": true,
    "scrolled": true
   },
   "outputs": [],
   "source": [
    "function controller(state)\n",
    "    # TODO add calculations of required tau - try PID\n",
    "    q = configuration(state)\n",
    "    v = velocity(state)\n",
    "    kp = 1.5; kd = 2*sqrt(kp);\n",
    "    pid(cur, des) = kp.*(des[1]-cur[1]) + kd.*(des[2]-cur[2])\n",
    "    \n",
    "    j1_des = [0,0]\n",
    "    j2_des = [0,0]\n",
    "    tau = [pid([q[1],v[1]], j1_des), pid([q[2],v[2]], j2_des)]\n",
    "end\n",
    "\n",
    "result = DynamicsResult{Float64}(twolinkarm)\n",
    "function controlled_dynamics!(vd::AbstractArray, sd::AbstractArray, t, state)\n",
    "    tau = controller(state)\n",
    "    dynamics!(result, state, tau)\n",
    "    copy!(vd, result.v̇)\n",
    "    copy!(sd, result.ṡ) \n",
    "end\n",
    "\n",
    "dyn! = controlled_dynamics!\n",
    "# const dyn! = damped_dynamics!\n",
    "# sink = DrakeVisualizerSink(vis)\n",
    "sink = ExpandingStorage{Float64}(10000)\n",
    "integrator = MuntheKaasIntegrator(dyn!, runge_kutta_4(Float64), sink);"
   ]
  },
  {
   "cell_type": "code",
   "execution_count": 149,
   "metadata": {},
   "outputs": [
    {
     "data": {
      "text/plain": [
       "plot_two_link_arm (generic function with 1 method)"
      ]
     },
     "execution_count": 149,
     "metadata": {},
     "output_type": "execute_result"
    }
   ],
   "source": [
    "function plot_two_link_arm(q)\n",
    "    # TODO figure out transforms in RigidBodyDynamics to allow plotting of arbitrary trees\n",
    "    theta1 = q[1]-pi/2\n",
    "    theta2 = q[2]\n",
    "    shoulder = [0,0]\n",
    "    elbow = shoulder + 1*[cos.(theta1), sin.(theta1)]\n",
    "    hand = elbow + 1*[cos.(theta1+theta2), sin.(theta1+theta2)]\n",
    "    \n",
    "    plot([0,elbow[1]],[0,elbow[2]], linewidth=5, marker=(:circle,10), color=:orange, legend=:none, xlim=(-2.1,2.1), ylim=(-2.1,2.1))\n",
    "    plot!([elbow[1], hand[1]],[elbow[2], hand[2]], linewidth=5, marker=(:circle,10), color=:orange)\n",
    "    plot!(xlabel=\"x\", ylabel=\"z\")\n",
    "end"
   ]
  },
  {
   "cell_type": "code",
   "execution_count": 150,
   "metadata": {},
   "outputs": [
    {
     "name": "stderr",
     "output_type": "stream",
     "text": [
      "\u001b[1m\u001b[36mINFO: \u001b[39m\u001b[22m\u001b[36mSaved animation to /Users/Kazu/Code/julia/JuliaExperiments/img/arm_random.gif\n",
      "\u001b[39m"
     ]
    },
    {
     "data": {
      "text/html": [
       "<img src=\"img/arm_random.gif?0.533108294620046>\" />"
      ],
      "text/plain": [
       "Plots.AnimatedGif(\"/Users/Kazu/Code/julia/JuliaExperiments/img/arm_random.gif\")"
      ]
     },
     "execution_count": 150,
     "metadata": {},
     "output_type": "execute_result"
    }
   ],
   "source": [
    "configuration(state, shoulder)[:] = 0.3\n",
    "configuration(state, elbow)[:] = 0.4\n",
    "velocity(state, shoulder)[:] = 0.\n",
    "velocity(state, elbow)[:] = 0.;\n",
    "\n",
    "anim = Animation()\n",
    "integrate(integrator, state, 5., 1e-3, maxRealtimeRate = Inf)\n",
    "qs = sink.qs\n",
    "for i in 1:100:length(qs)\n",
    "    plot_two_link_arm(qs[i])\n",
    "    frame(anim)\n",
    "end \n",
    "\n",
    "gif(anim, \"img/arm_random.gif\")"
   ]
  },
  {
   "cell_type": "code",
   "execution_count": 147,
   "metadata": {},
   "outputs": [
    {
     "data": {
      "text/plain": [
       "2×2 Symmetric{Float64,Array{Float64,2}}:\n",
       " 2.66594   0.832972\n",
       " 0.832972  0.333   "
      ]
     },
     "execution_count": 147,
     "metadata": {},
     "output_type": "execute_result"
    }
   ],
   "source": [
    "mass_matrix(state)"
   ]
  },
  {
   "cell_type": "code",
   "execution_count": 156,
   "metadata": {},
   "outputs": [
    {
     "data": {
      "text/plain": [
       "3×2 Array{Float64,2}:\n",
       " 0.0   0.999639 \n",
       " 0.0   0.0      \n",
       " 0.0  -0.0268753"
      ]
     },
     "execution_count": 156,
     "metadata": {},
     "output_type": "execute_result"
    }
   ],
   "source": [
    "nv = num_velocities(state)\n",
    "\n",
    "bodyframe = default_frame(lowerlink)\n",
    "baseframe = default_frame(world)\n",
    "jacobian = GeometricJacobian(bodyframe, baseframe, baseframe, Matrix{Float64}(3, nv), Matrix{Float64}(3, nv))\n",
    "p = path(twolinkarm, lowerlink, world)\n",
    "geometric_jacobian!(jacobian, state, path(twolinkarm, world, lowerlink))\n",
    "jacobian.linear"
   ]
  },
  {
   "cell_type": "code",
   "execution_count": 6,
   "metadata": {},
   "outputs": [
    {
     "data": {
      "text/plain": [
       "3×2 Array{Float64,2}:\n",
       " 1.0  0.0\n",
       " 0.0  0.0\n",
       " 1.0  1.0"
      ]
     },
     "execution_count": 6,
     "metadata": {},
     "output_type": "execute_result"
    }
   ],
   "source": [
    "using ForwardDiff\n",
    "\n",
    "# Manual jacobian\n",
    "function handpos_from_config(q::Vector)\n",
    "    [cos(q[1]-pi/2)+cos(q[1]-pi/2+q[2]), 0, sin(q[1]-pi/2)+sin(q[1]-pi/2+q[2])]\n",
    "end\n",
    "\n",
    "J_hand = x -> ForwardDiff.jacobian(handpos_from_config,x)\n",
    "J_hand([0,pi/2])"
   ]
  },
  {
   "cell_type": "code",
   "execution_count": 154,
   "metadata": {
    "scrolled": true
   },
   "outputs": [
    {
     "data": {
      "text/plain": [
       "Transform3D from \"after_elbow\" to \"world\":\n",
       "rotation: 0.03749230353192035 rad about [0.0, 1.0, 0.0], translation: [-0.0268753, 0.0, -0.999639]"
      ]
     },
     "execution_count": 154,
     "metadata": {},
     "output_type": "execute_result"
    }
   ],
   "source": [
    "transform_to_root(state, elbow.frameAfter)"
   ]
  },
  {
   "cell_type": "code",
   "execution_count": 159,
   "metadata": {},
   "outputs": [
    {
     "data": {
      "text/plain": [
       "Spanning tree:\n",
       "Vertex: world (root)\n",
       "  Vertex: upper_link, Edge: shoulder\n",
       "    Vertex: lower_link, Edge: elbow\n",
       "No non-tree joints."
      ]
     },
     "execution_count": 159,
     "metadata": {},
     "output_type": "execute_result"
    }
   ],
   "source": [
    "center_of_mass(state)\n",
    "twolinkarm"
   ]
  },
  {
   "cell_type": "code",
   "execution_count": 105,
   "metadata": {},
   "outputs": [
    {
     "data": {
      "text/plain": [
       "3×2 Array{Float64,2}:\n",
       " 0.0   0.999976  \n",
       " 0.0   0.0       \n",
       " 0.0  -0.00692037"
      ]
     },
     "execution_count": 105,
     "metadata": {},
     "output_type": "execute_result"
    }
   ],
   "source": []
  },
  {
   "cell_type": "code",
   "execution_count": null,
   "metadata": {
    "collapsed": true
   },
   "outputs": [],
   "source": []
  }
 ],
 "metadata": {
  "kernelspec": {
   "display_name": "Julia 0.6.0",
   "language": "julia",
   "name": "julia-0.6"
  },
  "language_info": {
   "file_extension": ".jl",
   "mimetype": "application/julia",
   "name": "julia",
   "version": "0.6.0"
  }
 },
 "nbformat": 4,
 "nbformat_minor": 2
}

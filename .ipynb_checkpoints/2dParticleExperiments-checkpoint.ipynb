{
 "cells": [
  {
   "cell_type": "code",
   "execution_count": 1,
   "metadata": {
    "scrolled": true
   },
   "outputs": [
    {
     "data": {
      "text/plain": [
       "Plots.GRBackend()"
      ]
     },
     "execution_count": 1,
     "metadata": {},
     "output_type": "execute_result"
    }
   ],
   "source": [
    "using JuMP, Ipopt\n",
    "using Plots\n",
    "gr()"
   ]
  },
  {
   "cell_type": "markdown",
   "metadata": {},
   "source": [
    "### 1. MPC with JuMP, using code from [MIT's Juliacon presentation](https://github.com/tkoolen/Robocon2017Tutorial.jl)."
   ]
  },
  {
   "cell_type": "code",
   "execution_count": null,
   "metadata": {
    "collapsed": true
   },
   "outputs": [],
   "source": [
    "# Set up model of particle \n",
    "\n",
    "model = Model(solver=IpoptSolver())\n",
    "\n",
    "# Constants\n",
    "Δt = 0.1\n",
    "num_time_steps = 20\n",
    "max_acceleration = 0.5\n",
    "\n",
    "# Decision variables\n",
    "@variables model begin\n",
    "    position[1:2, 1:num_time_steps]\n",
    "    velocity[1:2, 1:num_time_steps]\n",
    "    -max_acceleration <= acceleration[1:2, 1:num_time_steps] <= max_acceleration\n",
    "end\n",
    "\n",
    "# Dynamics constraints\n",
    "@constraint(model, [i=2:num_time_steps, j=1:2],\n",
    "            velocity[j, i] == velocity[j, i - 1] + acceleration[j, i - 1] * Δt)\n",
    "@constraint(model, [i=2:num_time_steps, j=1:2],\n",
    "            position[j, i] == position[j, i - 1] + velocity[j, i - 1] * Δt)\n",
    "\n",
    "# Cost function: minimize final position and final velocity\n",
    "@objective(model, Min, \n",
    "    100 * sum(position[:, end].^2) + sum(velocity[:, end].^2))\n",
    "\n",
    "# Initial conditions:\n",
    "@constraint(model, position[:, 1] .== [1, 0])\n",
    "@constraint(model, velocity[:, 1] .== [0, 1])\n",
    "\n",
    "solve(model)"
   ]
  },
  {
   "cell_type": "code",
   "execution_count": null,
   "metadata": {
    "collapsed": true
   },
   "outputs": [],
   "source": [
    "# Extract the solution from the model\n",
    "q = getvalue(position)\n",
    "v = getvalue(velocity)\n",
    "u = getvalue(acceleration)"
   ]
  },
  {
   "cell_type": "code",
   "execution_count": null,
   "metadata": {
    "collapsed": true
   },
   "outputs": [],
   "source": [
    "using Plots\n",
    "# Use the GR backend for Plots.jl, because it's fast\n",
    "gr()"
   ]
  },
  {
   "cell_type": "code",
   "execution_count": null,
   "metadata": {
    "collapsed": true
   },
   "outputs": [],
   "source": [
    "# The @gif macro creates an animate plot, which lets us draw the\n",
    "# optimized trajectory of the brick as a function of time\n",
    "anim = @animate for i = 1:num_time_steps\n",
    "    plot(q[1, :], q[2, :], xlim=(-1.1, 1.1), ylim=(-1.1, 1.1))\n",
    "    plot!([q[1, i]], [q[2, i]], marker=(:hex, 6))\n",
    "end\n",
    "gif(anim, \"img/mpc1.gif\", fps = 30)"
   ]
  },
  {
   "cell_type": "markdown",
   "metadata": {},
   "source": [
    "To do MPC, we can optimize a trajectory at each timestep, execute the first command, then replan at the next timestep.\n",
    "\n",
    "TODO: \n",
    "\n",
    "* Try adding noise"
   ]
  },
  {
   "cell_type": "markdown",
   "metadata": {},
   "source": [
    "### 2. Local QP controller"
   ]
  },
  {
   "cell_type": "code",
   "execution_count": 9,
   "metadata": {},
   "outputs": [
    {
     "data": {
      "text/plain": [
       "qp_controller (generic function with 1 method)"
      ]
     },
     "execution_count": 9,
     "metadata": {},
     "output_type": "execute_result"
    }
   ],
   "source": [
    "# Constants\n",
    "Δt = 0.1\n",
    "num_time_steps = 20\n",
    "max_acceleration = 0.5\n",
    "kp = 1.5\n",
    "kd = 2*sqrt(1.)\n",
    "\n",
    "function qp_controller(pos_cur, vel_cur, pos_des, vel_des)\n",
    "    model = Model(solver=IpoptSolver(print_level=0))\n",
    "    \n",
    "    # Decision variables\n",
    "    @variables model begin\n",
    "        -max_acceleration <= acceleration[1:2] <= max_acceleration\n",
    "    end\n",
    "\n",
    "    # Manual warm-start\n",
    "#     if isdefined(:prev_solution)\n",
    "#         setvalue(acceleration, prev_solution)\n",
    "#     end\n",
    "    \n",
    "    # Don't really need dynamics constraint because the dynamics model is just F=m*a\n",
    "    \n",
    "    # Cost function: spring damper behavior (PD controller) on \\ddot{p} between current and goal\n",
    "    # TODO try converting this to Q, C matrices\n",
    "    @objective(model, Min, sum((kp*(pos_des - pos_cur) + kd*(vel_des - vel_cur) - acceleration).^2))\n",
    "\n",
    "    solve(model)\n",
    "#     global prev_solution = getvalue(acceleration)\n",
    "    return getvalue(acceleration)\n",
    "end"
   ]
  },
  {
   "cell_type": "code",
   "execution_count": 14,
   "metadata": {},
   "outputs": [
    {
     "name": "stderr",
     "output_type": "stream",
     "text": [
      "\u001b[1m\u001b[36mINFO: \u001b[39m\u001b[22m\u001b[36mSaved animation to /Users/Kazu/Code/julia/JuliaExperiments/img/qp_traj.gif\n",
      "\u001b[39m"
     ]
    },
    {
     "data": {
      "text/html": [
       "<img src=\"img/qp_traj.gif?0.26218773168436904>\" />"
      ],
      "text/plain": [
       "Plots.AnimatedGif(\"/Users/Kazu/Code/julia/JuliaExperiments/img/qp_traj.gif\")"
      ]
     },
     "execution_count": 14,
     "metadata": {},
     "output_type": "execute_result"
    }
   ],
   "source": [
    "pos_des = [-1,1]\n",
    "vel_des = [0,0]\n",
    "q = [1,0]\n",
    "v = [0,0]\n",
    "\n",
    "anim = @animate for i in 1:100\n",
    "    # Plot the current and goal positions\n",
    "    plot([pos_des[1]], [pos_des[2]], marker=(:circle, 10), xlim=(-1.1, 1.1), ylim=(-1.1, 1.1), legend=:none)\n",
    "    plot!([q[1]], [q[2]], marker=(:hex, 10))\n",
    "    \n",
    "    # Run the MPC control optimization\n",
    "#     tic()\n",
    "    accel = qp_controller(q, v, pos_des, vel_des)\n",
    "#     print(i, \" \")\n",
    "#     toc()\n",
    "    \n",
    "    # Apply the planned acceleration and simulate one step in time\n",
    "    v += accel * Δt\n",
    "    q += v * Δt\n",
    "end\n",
    "\n",
    "gif(anim, \"img/qp_traj.gif\")"
   ]
  },
  {
   "cell_type": "code",
   "execution_count": null,
   "metadata": {
    "collapsed": true
   },
   "outputs": [],
   "source": []
  }
 ],
 "metadata": {
  "kernelspec": {
   "display_name": "Julia 0.6.0",
   "language": "julia",
   "name": "julia-0.6"
  },
  "language_info": {
   "file_extension": ".jl",
   "mimetype": "application/julia",
   "name": "julia",
   "version": "0.6.0"
  }
 },
 "nbformat": 4,
 "nbformat_minor": 2
}

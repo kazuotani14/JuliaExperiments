{
 "cells": [
  {
   "cell_type": "markdown",
   "metadata": {},
   "source": [
    "# Convex optimization applications"
   ]
  },
  {
   "cell_type": "markdown",
   "metadata": {},
   "source": [
    "### Lowner-John Ellipsoid"
   ]
  },
  {
   "cell_type": "markdown",
   "metadata": {},
   "source": [
    "Finds minimum volume ellipsoid around a finite set of points (2d in this case)\n",
    "\n",
    "An ellipse can be represented as $\\{ v \\text{ | } ||Av+b||_2 <= 1\\}$\n",
    "\n",
    "Thus, the constraint to contain all points is: $||Ax_i + b ||_2 <= 1$ for all $x_i$\n",
    "\n",
    "We can minimize the volume of the ellipse by minimizing $log(det(inv(A)))$, because the volume of the ellipse is proportional to $det(inv(A))$. Intuition for this is that as values in A get larger, v must be smaller to keep $||Ax_i + b ||_2 <= 1$\n",
    "\n",
    "But we can't do $inv$ in Convex.jl so we instead _maximize_ $logdet(A)$. $logdet$ also adds an implicit constraint that A is symmetric positive-definite\n"
   ]
  },
  {
   "cell_type": "markdown",
   "metadata": {},
   "source": [
    "First, we load the necessary libraries. Thig might take a while"
   ]
  },
  {
   "cell_type": "code",
   "execution_count": 1,
   "metadata": {},
   "outputs": [
    {
     "name": "stderr",
     "output_type": "stream",
     "text": [
      "WARNING: Compat.UTF8String is deprecated, use String instead.\n",
      "  likely near In[1]:1\n"
     ]
    },
    {
     "data": {
      "text/plain": [
       "SCS.SCSSolver(Any[(:verbose, 0)])"
      ]
     },
     "execution_count": 1,
     "metadata": {},
     "output_type": "execute_result"
    }
   ],
   "source": [
    "using PyPlot\n",
    "using Convex, SCS\n",
    "set_default_solver(SCSSolver(verbose=0))"
   ]
  },
  {
   "cell_type": "markdown",
   "metadata": {},
   "source": [
    "Pick points"
   ]
  },
  {
   "cell_type": "code",
   "execution_count": 2,
   "metadata": {},
   "outputs": [
    {
     "data": {
      "text/plain": [
       "3×2 Array{Int64,2}:\n",
       " 10  0\n",
       "  0  5\n",
       "  1  1"
      ]
     },
     "execution_count": 2,
     "metadata": {},
     "output_type": "execute_result"
    }
   ],
   "source": [
    "n_dims = 2\n",
    "\n",
    "# Points\n",
    "if n_dims==2\n",
    "     x = [10 0;\n",
    "          0 5;\n",
    "          1 1]\n",
    "elseif n_dims==3\n",
    "     x = [10 0 0;\n",
    "          0 10 0\n",
    "          0 0 10;\n",
    "          10 10 10]\n",
    "else\n",
    "     x = rand(n_dims+1, n_dims)\n",
    "end\n"
   ]
  },
  {
   "cell_type": "code",
   "execution_count": 3,
   "metadata": {},
   "outputs": [
    {
     "data": {
      "text/plain": [
       "Problem:\n",
       "maximize AbstractExpr with\n",
       "head: logdet\n",
       "size: (1, 1)\n",
       "sign: Convex.NoSign()\n",
       "vexity: Convex.ConcaveVexity()\n",
       "\n",
       "subject to\n",
       "Constraint:\n",
       "<= constraint\n",
       "lhs: AbstractExpr with\n",
       "head: norm2\n",
       "size: (1, 1)\n",
       "sign: Convex.Positive()\n",
       "vexity: Convex.ConvexVexity()\n",
       "\n",
       "rhs: 1\n",
       "vexity: Convex.ConvexVexity()\n",
       "\t\tConstraint:\n",
       "<= constraint\n",
       "lhs: AbstractExpr with\n",
       "head: norm2\n",
       "size: (1, 1)\n",
       "sign: Convex.Positive()\n",
       "vexity: Convex.ConvexVexity()\n",
       "\n",
       "rhs: 1\n",
       "vexity: Convex.ConvexVexity()\n",
       "\t\tConstraint:\n",
       "<= constraint\n",
       "lhs: AbstractExpr with\n",
       "head: norm2\n",
       "size: (1, 1)\n",
       "sign: Convex.Positive()\n",
       "vexity: Convex.ConvexVexity()\n",
       "\n",
       "rhs: 1\n",
       "vexity: Convex.ConvexVexity()\n",
       "current status: not yet solved"
      ]
     },
     "execution_count": 3,
     "metadata": {},
     "output_type": "execute_result"
    }
   ],
   "source": [
    "# Set up problem\n",
    "A = Variable(n,n)\n",
    "b = Variable(n)\n",
    "\n",
    "objective = logdet(A)\n",
    "\n",
    "constraints = (norm(A*x[1,:]+b) <= 1)\n",
    "for i in 2:size(x)[1]\n",
    "     constraints += (norm(A*x[i,:]+b) <= 1)\n",
    "end\n",
    "\n",
    "problem = maximize(objective, constraints)"
   ]
  },
  {
   "cell_type": "code",
   "execution_count": 4,
   "metadata": {},
   "outputs": [
    {
     "name": "stderr",
     "output_type": "stream",
     "text": [
      "\u001b[1m\u001b[33mWARNING: \u001b[39m\u001b[22m\u001b[33mArray{T}(::Type{T}, m::Int) is deprecated, use Array{T}(m) instead.\u001b[39m\n",
      "Stacktrace:\n",
      " [1] \u001b[1mdepwarn\u001b[22m\u001b[22m\u001b[1m(\u001b[22m\u001b[22m::String, ::Symbol\u001b[1m)\u001b[22m\u001b[22m at \u001b[1m./deprecated.jl:70\u001b[22m\u001b[22m\n",
      " [2] \u001b[1mArray\u001b[22m\u001b[22m\u001b[1m(\u001b[22m\u001b[22m::Type{DataStructures.OrderedDict{UInt64,Tuple{Union{AbstractArray, Number},Union{AbstractArray, Number}}}}, ::Int64\u001b[1m)\u001b[22m\u001b[22m at \u001b[1m./deprecated.jl:57\u001b[22m\u001b[22m\n",
      " [3] \u001b[1mconic_form!\u001b[22m\u001b[22m\u001b[1m(\u001b[22m\u001b[22m::Convex.ExpConstraint, ::Convex.UniqueConicForms\u001b[1m)\u001b[22m\u001b[22m at \u001b[1m/Users/Kazu/.julia/v0.6/Convex/src/constraints/exp_constraints.jl:52\u001b[22m\u001b[22m\n",
      " [4] \u001b[1mconic_form!\u001b[22m\u001b[22m\u001b[1m(\u001b[22m\u001b[22m::Convex.LogAtom, ::Convex.UniqueConicForms\u001b[1m)\u001b[22m\u001b[22m at \u001b[1m/Users/Kazu/.julia/v0.6/Convex/src/atoms/exp_cone/log.jl:55\u001b[22m\u001b[22m\n",
      " [5] \u001b[1mconic_form!\u001b[22m\u001b[22m\u001b[1m(\u001b[22m\u001b[22m::Convex.SumAtom, ::Convex.UniqueConicForms\u001b[1m)\u001b[22m\u001b[22m at \u001b[1m/Users/Kazu/.julia/v0.6/Convex/src/atoms/affine/sum.jl:48\u001b[22m\u001b[22m\n",
      " [6] \u001b[1mconic_form!\u001b[22m\u001b[22m\u001b[1m(\u001b[22m\u001b[22m::Convex.LogDetAtom, ::Convex.UniqueConicForms\u001b[1m)\u001b[22m\u001b[22m at \u001b[1m/Users/Kazu/.julia/v0.6/Convex/src/atoms/exp_+_sdp_cone/logdet.jl:38\u001b[22m\u001b[22m\n",
      " [7] \u001b[1mconic_form!\u001b[22m\u001b[22m\u001b[1m(\u001b[22m\u001b[22m::Convex.AdditionAtom, ::Convex.UniqueConicForms\u001b[1m)\u001b[22m\u001b[22m at \u001b[1m/Users/Kazu/.julia/v0.6/Convex/src/atoms/affine/add_subtract.jl:108\u001b[22m\u001b[22m\n",
      " [8] \u001b[1mconic_form!\u001b[22m\u001b[22m\u001b[1m(\u001b[22m\u001b[22m::Convex.EqConstraint, ::Convex.UniqueConicForms\u001b[1m)\u001b[22m\u001b[22m at \u001b[1m/Users/Kazu/.julia/v0.6/Convex/src/constraints/constraints.jl:43\u001b[22m\u001b[22m\n",
      " [9] \u001b[1mconic_form!\u001b[22m\u001b[22m\u001b[1m(\u001b[22m\u001b[22m::Convex.Problem, ::Convex.UniqueConicForms\u001b[1m)\u001b[22m\u001b[22m at \u001b[1m/Users/Kazu/.julia/v0.6/Convex/src/problems.jl:99\u001b[22m\u001b[22m\n",
      " [10] \u001b[1mconic_problem\u001b[22m\u001b[22m\u001b[1m(\u001b[22m\u001b[22m::Convex.Problem\u001b[1m)\u001b[22m\u001b[22m at \u001b[1m/Users/Kazu/.julia/v0.6/Convex/src/problems.jl:124\u001b[22m\u001b[22m\n",
      " [11] \u001b[1m#solve!#25\u001b[22m\u001b[22m\u001b[1m(\u001b[22m\u001b[22m::Bool, ::Bool, ::Bool, ::Function, ::Convex.Problem\u001b[1m)\u001b[22m\u001b[22m at \u001b[1m/Users/Kazu/.julia/v0.6/Convex/src/solution.jl:25\u001b[22m\u001b[22m\n",
      " [12] \u001b[1msolve!\u001b[22m\u001b[22m\u001b[1m(\u001b[22m\u001b[22m::Convex.Problem\u001b[1m)\u001b[22m\u001b[22m at \u001b[1m/Users/Kazu/.julia/v0.6/Convex/src/solution.jl:21\u001b[22m\u001b[22m\n",
      " [13] \u001b[1minclude_string\u001b[22m\u001b[22m\u001b[1m(\u001b[22m\u001b[22m::String, ::String\u001b[1m)\u001b[22m\u001b[22m at \u001b[1m./loading.jl:515\u001b[22m\u001b[22m\n",
      " [14] \u001b[1mexecute_request\u001b[22m\u001b[22m\u001b[1m(\u001b[22m\u001b[22m::ZMQ.Socket, ::IJulia.Msg\u001b[1m)\u001b[22m\u001b[22m at \u001b[1m/Users/Kazu/.julia/v0.6/IJulia/src/execute_request.jl:160\u001b[22m\u001b[22m\n",
      " [15] \u001b[1meventloop\u001b[22m\u001b[22m\u001b[1m(\u001b[22m\u001b[22m::ZMQ.Socket\u001b[1m)\u001b[22m\u001b[22m at \u001b[1m/Users/Kazu/.julia/v0.6/IJulia/src/eventloop.jl:8\u001b[22m\u001b[22m\n",
      " [16] \u001b[1m(::IJulia.##11#14)\u001b[22m\u001b[22m\u001b[1m(\u001b[22m\u001b[22m\u001b[1m)\u001b[22m\u001b[22m at \u001b[1m./task.jl:335\u001b[22m\u001b[22m\n",
      "while loading In[4], in expression starting on line 1\n",
      "\u001b[1m\u001b[33mWARNING: \u001b[39m\u001b[22m\u001b[33mArray{T}(::Type{T}, m::Int) is deprecated, use Array{T}(m) instead.\u001b[39m\n",
      "Stacktrace:\n",
      " [1] \u001b[1mdepwarn\u001b[22m\u001b[22m\u001b[1m(\u001b[22m\u001b[22m::String, ::Symbol\u001b[1m)\u001b[22m\u001b[22m at \u001b[1m./deprecated.jl:70\u001b[22m\u001b[22m\n",
      " [2] \u001b[1mArray\u001b[22m\u001b[22m\u001b[1m(\u001b[22m\u001b[22m::Type{Int64}, ::Int64\u001b[1m)\u001b[22m\u001b[22m at \u001b[1m./deprecated.jl:57\u001b[22m\u001b[22m\n",
      " [3] \u001b[1mconic_form!\u001b[22m\u001b[22m\u001b[1m(\u001b[22m\u001b[22m::Convex.IndexAtom, ::Convex.UniqueConicForms\u001b[1m)\u001b[22m\u001b[22m at \u001b[1m/Users/Kazu/.julia/v0.6/Convex/src/atoms/affine/index.jl:57\u001b[22m\u001b[22m\n",
      " [4] \u001b[1mconic_form!\u001b[22m\u001b[22m\u001b[1m(\u001b[22m\u001b[22m::Convex.ExpConstraint, ::Convex.UniqueConicForms\u001b[1m)\u001b[22m\u001b[22m at \u001b[1m/Users/Kazu/.julia/v0.6/Convex/src/constraints/exp_constraints.jl:54\u001b[22m\u001b[22m\n",
      " [5] \u001b[1mconic_form!\u001b[22m\u001b[22m\u001b[1m(\u001b[22m\u001b[22m::Convex.LogAtom, ::Convex.UniqueConicForms\u001b[1m)\u001b[22m\u001b[22m at \u001b[1m/Users/Kazu/.julia/v0.6/Convex/src/atoms/exp_cone/log.jl:55\u001b[22m\u001b[22m\n",
      " [6] \u001b[1mconic_form!\u001b[22m\u001b[22m\u001b[1m(\u001b[22m\u001b[22m::Convex.SumAtom, ::Convex.UniqueConicForms\u001b[1m)\u001b[22m\u001b[22m at \u001b[1m/Users/Kazu/.julia/v0.6/Convex/src/atoms/affine/sum.jl:48\u001b[22m\u001b[22m\n",
      " [7] \u001b[1mconic_form!\u001b[22m\u001b[22m\u001b[1m(\u001b[22m\u001b[22m::Convex.LogDetAtom, ::Convex.UniqueConicForms\u001b[1m)\u001b[22m\u001b[22m at \u001b[1m/Users/Kazu/.julia/v0.6/Convex/src/atoms/exp_+_sdp_cone/logdet.jl:38\u001b[22m\u001b[22m\n",
      " [8] \u001b[1mconic_form!\u001b[22m\u001b[22m\u001b[1m(\u001b[22m\u001b[22m::Convex.AdditionAtom, ::Convex.UniqueConicForms\u001b[1m)\u001b[22m\u001b[22m at \u001b[1m/Users/Kazu/.julia/v0.6/Convex/src/atoms/affine/add_subtract.jl:108\u001b[22m\u001b[22m\n",
      " [9] \u001b[1mconic_form!\u001b[22m\u001b[22m\u001b[1m(\u001b[22m\u001b[22m::Convex.EqConstraint, ::Convex.UniqueConicForms\u001b[1m)\u001b[22m\u001b[22m at \u001b[1m/Users/Kazu/.julia/v0.6/Convex/src/constraints/constraints.jl:43\u001b[22m\u001b[22m\n",
      " [10] \u001b[1mconic_form!\u001b[22m\u001b[22m\u001b[1m(\u001b[22m\u001b[22m::Convex.Problem, ::Convex.UniqueConicForms\u001b[1m)\u001b[22m\u001b[22m at \u001b[1m/Users/Kazu/.julia/v0.6/Convex/src/problems.jl:99\u001b[22m\u001b[22m\n",
      " [11] \u001b[1mconic_problem\u001b[22m\u001b[22m\u001b[1m(\u001b[22m\u001b[22m::Convex.Problem\u001b[1m)\u001b[22m\u001b[22m at \u001b[1m/Users/Kazu/.julia/v0.6/Convex/src/problems.jl:124\u001b[22m\u001b[22m\n",
      " [12] \u001b[1m#solve!#25\u001b[22m\u001b[22m\u001b[1m(\u001b[22m\u001b[22m::Bool, ::Bool, ::Bool, ::Function, ::Convex.Problem\u001b[1m)\u001b[22m\u001b[22m at \u001b[1m/Users/Kazu/.julia/v0.6/Convex/src/solution.jl:25\u001b[22m\u001b[22m\n",
      " [13] \u001b[1msolve!\u001b[22m\u001b[22m\u001b[1m(\u001b[22m\u001b[22m::Convex.Problem\u001b[1m)\u001b[22m\u001b[22m at \u001b[1m/Users/Kazu/.julia/v0.6/Convex/src/solution.jl:21\u001b[22m\u001b[22m\n",
      " [14] \u001b[1minclude_string\u001b[22m\u001b[22m\u001b[1m(\u001b[22m\u001b[22m::String, ::String\u001b[1m)\u001b[22m\u001b[22m at \u001b[1m./loading.jl:515\u001b[22m\u001b[22m\n",
      " [15] \u001b[1mexecute_request\u001b[22m\u001b[22m\u001b[1m(\u001b[22m\u001b[22m::ZMQ.Socket, ::IJulia.Msg\u001b[1m)\u001b[22m\u001b[22m at \u001b[1m/Users/Kazu/.julia/v0.6/IJulia/src/execute_request.jl:160\u001b[22m\u001b[22m\n",
      " [16] \u001b[1meventloop\u001b[22m\u001b[22m\u001b[1m(\u001b[22m\u001b[22m::ZMQ.Socket\u001b[1m)\u001b[22m\u001b[22m at \u001b[1m/Users/Kazu/.julia/v0.6/IJulia/src/eventloop.jl:8\u001b[22m\u001b[22m\n",
      " [17] \u001b[1m(::IJulia.##11#14)\u001b[22m\u001b[22m\u001b[1m(\u001b[22m\u001b[22m\u001b[1m)\u001b[22m\u001b[22m at \u001b[1m./task.jl:335\u001b[22m\u001b[22m\n",
      "while loading In[4], in expression starting on line 1\n",
      "\u001b[1m\u001b[33mWARNING: \u001b[39m\u001b[22m\u001b[33mArray{T}(::Type{T}, m::Int) is deprecated, use Array{T}(m) instead.\u001b[39m\n",
      "Stacktrace:\n",
      " [1] \u001b[1mdepwarn\u001b[22m\u001b[22m\u001b[1m(\u001b[22m\u001b[22m::String, ::Symbol\u001b[1m)\u001b[22m\u001b[22m at \u001b[1m./deprecated.jl:70\u001b[22m\u001b[22m\n",
      " [2] \u001b[1mArray\u001b[22m\u001b[22m\u001b[1m(\u001b[22m\u001b[22m::Type{Int64}, ::Int64\u001b[1m)\u001b[22m\u001b[22m at \u001b[1m./deprecated.jl:57\u001b[22m\u001b[22m\n",
      " [3] \u001b[1mconic_form!\u001b[22m\u001b[22m\u001b[1m(\u001b[22m\u001b[22m::Convex.SDPConstraint, ::Convex.UniqueConicForms\u001b[1m)\u001b[22m\u001b[22m at \u001b[1m/Users/Kazu/.julia/v0.6/Convex/src/constraints/sdp_constraints.jl:52\u001b[22m\u001b[22m\n",
      " [4] \u001b[1mconic_form!\u001b[22m\u001b[22m\u001b[1m(\u001b[22m\u001b[22m::Convex.LogDetAtom, ::Convex.UniqueConicForms\u001b[1m)\u001b[22m\u001b[22m at \u001b[1m/Users/Kazu/.julia/v0.6/Convex/src/atoms/exp_+_sdp_cone/logdet.jl:56\u001b[22m\u001b[22m\n",
      " [5] \u001b[1mconic_form!\u001b[22m\u001b[22m\u001b[1m(\u001b[22m\u001b[22m::Convex.AdditionAtom, ::Convex.UniqueConicForms\u001b[1m)\u001b[22m\u001b[22m at \u001b[1m/Users/Kazu/.julia/v0.6/Convex/src/atoms/affine/add_subtract.jl:108\u001b[22m\u001b[22m\n",
      " [6] \u001b[1mconic_form!\u001b[22m\u001b[22m\u001b[1m(\u001b[22m\u001b[22m::Convex.EqConstraint, ::Convex.UniqueConicForms\u001b[1m)\u001b[22m\u001b[22m at \u001b[1m/Users/Kazu/.julia/v0.6/Convex/src/constraints/constraints.jl:43\u001b[22m\u001b[22m\n",
      " [7] \u001b[1mconic_form!\u001b[22m\u001b[22m\u001b[1m(\u001b[22m\u001b[22m::Convex.Problem, ::Convex.UniqueConicForms\u001b[1m)\u001b[22m\u001b[22m at \u001b[1m/Users/Kazu/.julia/v0.6/Convex/src/problems.jl:99\u001b[22m\u001b[22m\n",
      " [8] \u001b[1mconic_problem\u001b[22m\u001b[22m\u001b[1m(\u001b[22m\u001b[22m::Convex.Problem\u001b[1m)\u001b[22m\u001b[22m at \u001b[1m/Users/Kazu/.julia/v0.6/Convex/src/problems.jl:124\u001b[22m\u001b[22m\n",
      " [9] \u001b[1m#solve!#25\u001b[22m\u001b[22m\u001b[1m(\u001b[22m\u001b[22m::Bool, ::Bool, ::Bool, ::Function, ::Convex.Problem\u001b[1m)\u001b[22m\u001b[22m at \u001b[1m/Users/Kazu/.julia/v0.6/Convex/src/solution.jl:25\u001b[22m\u001b[22m\n",
      " [10] \u001b[1msolve!\u001b[22m\u001b[22m\u001b[1m(\u001b[22m\u001b[22m::Convex.Problem\u001b[1m)\u001b[22m\u001b[22m at \u001b[1m/Users/Kazu/.julia/v0.6/Convex/src/solution.jl:21\u001b[22m\u001b[22m\n",
      " [11] \u001b[1minclude_string\u001b[22m\u001b[22m\u001b[1m(\u001b[22m\u001b[22m::String, ::String\u001b[1m)\u001b[22m\u001b[22m at \u001b[1m./loading.jl:515\u001b[22m\u001b[22m\n",
      " [12] \u001b[1mexecute_request\u001b[22m\u001b[22m\u001b[1m(\u001b[22m\u001b[22m::ZMQ.Socket, ::IJulia.Msg\u001b[1m)\u001b[22m\u001b[22m at \u001b[1m/Users/Kazu/.julia/v0.6/IJulia/src/execute_request.jl:160\u001b[22m\u001b[22m\n",
      " [13] \u001b[1meventloop\u001b[22m\u001b[22m\u001b[1m(\u001b[22m\u001b[22m::ZMQ.Socket\u001b[1m)\u001b[22m\u001b[22m at \u001b[1m/Users/Kazu/.julia/v0.6/IJulia/src/eventloop.jl:8\u001b[22m\u001b[22m\n",
      " [14] \u001b[1m(::IJulia.##11#14)\u001b[22m\u001b[22m\u001b[1m(\u001b[22m\u001b[22m\u001b[1m)\u001b[22m\u001b[22m at \u001b[1m./task.jl:335\u001b[22m\u001b[22m\n",
      "while loading In[4], in expression starting on line 1\n",
      "\u001b[1m\u001b[33mWARNING: \u001b[39m\u001b[22m\u001b[33mArray{T}(::Type{T}, m::Int) is deprecated, use Array{T}(m) instead.\u001b[39m\n",
      "Stacktrace:\n",
      " [1] \u001b[1mdepwarn\u001b[22m\u001b[22m\u001b[1m(\u001b[22m\u001b[22m::String, ::Symbol\u001b[1m)\u001b[22m\u001b[22m at \u001b[1m./deprecated.jl:70\u001b[22m\u001b[22m\n",
      " [2] \u001b[1mArray\u001b[22m\u001b[22m\u001b[1m(\u001b[22m\u001b[22m::Type{Int64}, ::Int64\u001b[1m)\u001b[22m\u001b[22m at \u001b[1m./deprecated.jl:57\u001b[22m\u001b[22m\n",
      " [3] \u001b[1mconic_form!\u001b[22m\u001b[22m\u001b[1m(\u001b[22m\u001b[22m::Convex.SDPConstraint, ::Convex.UniqueConicForms\u001b[1m)\u001b[22m\u001b[22m at \u001b[1m/Users/Kazu/.julia/v0.6/Convex/src/constraints/sdp_constraints.jl:53\u001b[22m\u001b[22m\n",
      " [4] \u001b[1mconic_form!\u001b[22m\u001b[22m\u001b[1m(\u001b[22m\u001b[22m::Convex.LogDetAtom, ::Convex.UniqueConicForms\u001b[1m)\u001b[22m\u001b[22m at \u001b[1m/Users/Kazu/.julia/v0.6/Convex/src/atoms/exp_+_sdp_cone/logdet.jl:56\u001b[22m\u001b[22m\n",
      " [5] \u001b[1mconic_form!\u001b[22m\u001b[22m\u001b[1m(\u001b[22m\u001b[22m::Convex.AdditionAtom, ::Convex.UniqueConicForms\u001b[1m)\u001b[22m\u001b[22m at \u001b[1m/Users/Kazu/.julia/v0.6/Convex/src/atoms/affine/add_subtract.jl:108\u001b[22m\u001b[22m\n",
      " [6] \u001b[1mconic_form!\u001b[22m\u001b[22m\u001b[1m(\u001b[22m\u001b[22m::Convex.EqConstraint, ::Convex.UniqueConicForms\u001b[1m)\u001b[22m\u001b[22m at \u001b[1m/Users/Kazu/.julia/v0.6/Convex/src/constraints/constraints.jl:43\u001b[22m\u001b[22m\n",
      " [7] \u001b[1mconic_form!\u001b[22m\u001b[22m\u001b[1m(\u001b[22m\u001b[22m::Convex.Problem, ::Convex.UniqueConicForms\u001b[1m)\u001b[22m\u001b[22m at \u001b[1m/Users/Kazu/.julia/v0.6/Convex/src/problems.jl:99\u001b[22m\u001b[22m\n",
      " [8] \u001b[1mconic_problem\u001b[22m\u001b[22m\u001b[1m(\u001b[22m\u001b[22m::Convex.Problem\u001b[1m)\u001b[22m\u001b[22m at \u001b[1m/Users/Kazu/.julia/v0.6/Convex/src/problems.jl:124\u001b[22m\u001b[22m\n",
      " [9] \u001b[1m#solve!#25\u001b[22m\u001b[22m\u001b[1m(\u001b[22m\u001b[22m::Bool, ::Bool, ::Bool, ::Function, ::Convex.Problem\u001b[1m)\u001b[22m\u001b[22m at \u001b[1m/Users/Kazu/.julia/v0.6/Convex/src/solution.jl:25\u001b[22m\u001b[22m\n",
      " [10] \u001b[1msolve!\u001b[22m\u001b[22m\u001b[1m(\u001b[22m\u001b[22m::Convex.Problem\u001b[1m)\u001b[22m\u001b[22m at \u001b[1m/Users/Kazu/.julia/v0.6/Convex/src/solution.jl:21\u001b[22m\u001b[22m\n",
      " [11] \u001b[1minclude_string\u001b[22m\u001b[22m\u001b[1m(\u001b[22m\u001b[22m::String, ::String\u001b[1m)\u001b[22m\u001b[22m at \u001b[1m./loading.jl:515\u001b[22m\u001b[22m\n",
      " [12] \u001b[1mexecute_request\u001b[22m\u001b[22m\u001b[1m(\u001b[22m\u001b[22m::ZMQ.Socket, ::IJulia.Msg\u001b[1m)\u001b[22m\u001b[22m at \u001b[1m/Users/Kazu/.julia/v0.6/IJulia/src/execute_request.jl:160\u001b[22m\u001b[22m\n",
      " [13] \u001b[1meventloop\u001b[22m\u001b[22m\u001b[1m(\u001b[22m\u001b[22m::ZMQ.Socket\u001b[1m)\u001b[22m\u001b[22m at \u001b[1m/Users/Kazu/.julia/v0.6/IJulia/src/eventloop.jl:8\u001b[22m\u001b[22m\n",
      " [14] \u001b[1m(::IJulia.##11#14)\u001b[22m\u001b[22m\u001b[1m(\u001b[22m\u001b[22m\u001b[1m)\u001b[22m\u001b[22m at \u001b[1m./task.jl:335\u001b[22m\u001b[22m\n",
      "while loading In[4], in expression starting on line 1\n"
     ]
    },
    {
     "name": "stderr",
     "output_type": "stream",
     "text": [
      "\u001b[1m\u001b[33mWARNING: \u001b[39m\u001b[22m\u001b[33mArray{T}(::Type{T}, m::Int) is deprecated, use Array{T}(m) instead.\u001b[39m\n",
      "Stacktrace:\n",
      " [1] \u001b[1mdepwarn\u001b[22m\u001b[22m\u001b[1m(\u001b[22m\u001b[22m::String, ::Symbol\u001b[1m)\u001b[22m\u001b[22m at \u001b[1m./deprecated.jl:70\u001b[22m\u001b[22m\n",
      " [2] \u001b[1mArray\u001b[22m\u001b[22m\u001b[1m(\u001b[22m\u001b[22m::Type{Int64}, ::Int64\u001b[1m)\u001b[22m\u001b[22m at \u001b[1m./deprecated.jl:57\u001b[22m\u001b[22m\n",
      " [3] \u001b[1mconic_form!\u001b[22m\u001b[22m\u001b[1m(\u001b[22m\u001b[22m::Convex.TransposeAtom, ::Convex.UniqueConicForms\u001b[1m)\u001b[22m\u001b[22m at \u001b[1m/Users/Kazu/.julia/v0.6/Convex/src/atoms/affine/transpose.jl:51\u001b[22m\u001b[22m\n",
      " [4] \u001b[1mconic_form!\u001b[22m\u001b[22m\u001b[1m(\u001b[22m\u001b[22m::Convex.HcatAtom, ::Convex.UniqueConicForms\u001b[1m)\u001b[22m\u001b[22m at \u001b[1m/Users/Kazu/.julia/v0.6/Convex/src/atoms/affine/stack.jl:47\u001b[22m\u001b[22m\n",
      " [5] \u001b[1mconic_form!\u001b[22m\u001b[22m\u001b[1m(\u001b[22m\u001b[22m::Convex.TransposeAtom, ::Convex.UniqueConicForms\u001b[1m)\u001b[22m\u001b[22m at \u001b[1m/Users/Kazu/.julia/v0.6/Convex/src/atoms/affine/transpose.jl:44\u001b[22m\u001b[22m\n",
      " [6] \u001b[1mconic_form!\u001b[22m\u001b[22m\u001b[1m(\u001b[22m\u001b[22m::Convex.DotMultiplyAtom, ::Convex.UniqueConicForms\u001b[1m)\u001b[22m\u001b[22m at \u001b[1m/Users/Kazu/.julia/v0.6/Convex/src/atoms/affine/multiply_divide.jl:175\u001b[22m\u001b[22m\n",
      " [7] \u001b[1mconic_form!\u001b[22m\u001b[22m\u001b[1m(\u001b[22m\u001b[22m::Convex.IndexAtom, ::Convex.UniqueConicForms\u001b[1m)\u001b[22m\u001b[22m at \u001b[1m/Users/Kazu/.julia/v0.6/Convex/src/atoms/affine/index.jl:72\u001b[22m\u001b[22m\n",
      " [8] \u001b[1mconic_form!\u001b[22m\u001b[22m\u001b[1m(\u001b[22m\u001b[22m::Convex.SDPConstraint, ::Convex.UniqueConicForms\u001b[1m)\u001b[22m\u001b[22m at \u001b[1m/Users/Kazu/.julia/v0.6/Convex/src/constraints/sdp_constraints.jl:65\u001b[22m\u001b[22m\n",
      " [9] \u001b[1mconic_form!\u001b[22m\u001b[22m\u001b[1m(\u001b[22m\u001b[22m::Convex.LogDetAtom, ::Convex.UniqueConicForms\u001b[1m)\u001b[22m\u001b[22m at \u001b[1m/Users/Kazu/.julia/v0.6/Convex/src/atoms/exp_+_sdp_cone/logdet.jl:57\u001b[22m\u001b[22m\n",
      " [10] \u001b[1mconic_form!\u001b[22m\u001b[22m\u001b[1m(\u001b[22m\u001b[22m::Convex.AdditionAtom, ::Convex.UniqueConicForms\u001b[1m)\u001b[22m\u001b[22m at \u001b[1m/Users/Kazu/.julia/v0.6/Convex/src/atoms/affine/add_subtract.jl:108\u001b[22m\u001b[22m\n",
      " [11] \u001b[1mconic_form!\u001b[22m\u001b[22m\u001b[1m(\u001b[22m\u001b[22m::Convex.EqConstraint, ::Convex.UniqueConicForms\u001b[1m)\u001b[22m\u001b[22m at \u001b[1m/Users/Kazu/.julia/v0.6/Convex/src/constraints/constraints.jl:43\u001b[22m\u001b[22m\n",
      " [12] \u001b[1mconic_form!\u001b[22m\u001b[22m\u001b[1m(\u001b[22m\u001b[22m::Convex.Problem, ::Convex.UniqueConicForms\u001b[1m)\u001b[22m\u001b[22m at \u001b[1m/Users/Kazu/.julia/v0.6/Convex/src/problems.jl:99\u001b[22m\u001b[22m\n",
      " [13] \u001b[1mconic_problem\u001b[22m\u001b[22m\u001b[1m(\u001b[22m\u001b[22m::Convex.Problem\u001b[1m)\u001b[22m\u001b[22m at \u001b[1m/Users/Kazu/.julia/v0.6/Convex/src/problems.jl:124\u001b[22m\u001b[22m\n",
      " [14] \u001b[1m#solve!#25\u001b[22m\u001b[22m\u001b[1m(\u001b[22m\u001b[22m::Bool, ::Bool, ::Bool, ::Function, ::Convex.Problem\u001b[1m)\u001b[22m\u001b[22m at \u001b[1m/Users/Kazu/.julia/v0.6/Convex/src/solution.jl:25\u001b[22m\u001b[22m\n",
      " [15] \u001b[1msolve!\u001b[22m\u001b[22m\u001b[1m(\u001b[22m\u001b[22m::Convex.Problem\u001b[1m)\u001b[22m\u001b[22m at \u001b[1m/Users/Kazu/.julia/v0.6/Convex/src/solution.jl:21\u001b[22m\u001b[22m\n",
      " [16] \u001b[1minclude_string\u001b[22m\u001b[22m\u001b[1m(\u001b[22m\u001b[22m::String, ::String\u001b[1m)\u001b[22m\u001b[22m at \u001b[1m./loading.jl:515\u001b[22m\u001b[22m\n",
      " [17] \u001b[1mexecute_request\u001b[22m\u001b[22m\u001b[1m(\u001b[22m\u001b[22m::ZMQ.Socket, ::IJulia.Msg\u001b[1m)\u001b[22m\u001b[22m at \u001b[1m/Users/Kazu/.julia/v0.6/IJulia/src/execute_request.jl:160\u001b[22m\u001b[22m\n",
      " [18] \u001b[1meventloop\u001b[22m\u001b[22m\u001b[1m(\u001b[22m\u001b[22m::ZMQ.Socket\u001b[1m)\u001b[22m\u001b[22m at \u001b[1m/Users/Kazu/.julia/v0.6/IJulia/src/eventloop.jl:8\u001b[22m\u001b[22m\n",
      " [19] \u001b[1m(::IJulia.##11#14)\u001b[22m\u001b[22m\u001b[1m(\u001b[22m\u001b[22m\u001b[1m)\u001b[22m\u001b[22m at \u001b[1m./task.jl:335\u001b[22m\u001b[22m\n",
      "while loading In[4], in expression starting on line 1\n",
      "\u001b[1m\u001b[33mWARNING: \u001b[39m\u001b[22m\u001b[33mArray{T}(::Type{T}, m::Int) is deprecated, use Array{T}(m) instead.\u001b[39m\n",
      "Stacktrace:\n",
      " [1] \u001b[1mdepwarn\u001b[22m\u001b[22m\u001b[1m(\u001b[22m\u001b[22m::String, ::Symbol\u001b[1m)\u001b[22m\u001b[22m at \u001b[1m./deprecated.jl:70\u001b[22m\u001b[22m\n",
      " [2] \u001b[1mArray\u001b[22m\u001b[22m\u001b[1m(\u001b[22m\u001b[22m::Type{Int64}, ::Int64\u001b[1m)\u001b[22m\u001b[22m at \u001b[1m./deprecated.jl:57\u001b[22m\u001b[22m\n",
      " [3] \u001b[1mconic_form!\u001b[22m\u001b[22m\u001b[1m(\u001b[22m\u001b[22m::Convex.TransposeAtom, ::Convex.UniqueConicForms\u001b[1m)\u001b[22m\u001b[22m at \u001b[1m/Users/Kazu/.julia/v0.6/Convex/src/atoms/affine/transpose.jl:52\u001b[22m\u001b[22m\n",
      " [4] \u001b[1mconic_form!\u001b[22m\u001b[22m\u001b[1m(\u001b[22m\u001b[22m::Convex.HcatAtom, ::Convex.UniqueConicForms\u001b[1m)\u001b[22m\u001b[22m at \u001b[1m/Users/Kazu/.julia/v0.6/Convex/src/atoms/affine/stack.jl:47\u001b[22m\u001b[22m\n",
      " [5] \u001b[1mconic_form!\u001b[22m\u001b[22m\u001b[1m(\u001b[22m\u001b[22m::Convex.TransposeAtom, ::Convex.UniqueConicForms\u001b[1m)\u001b[22m\u001b[22m at \u001b[1m/Users/Kazu/.julia/v0.6/Convex/src/atoms/affine/transpose.jl:44\u001b[22m\u001b[22m\n",
      " [6] \u001b[1mconic_form!\u001b[22m\u001b[22m\u001b[1m(\u001b[22m\u001b[22m::Convex.DotMultiplyAtom, ::Convex.UniqueConicForms\u001b[1m)\u001b[22m\u001b[22m at \u001b[1m/Users/Kazu/.julia/v0.6/Convex/src/atoms/affine/multiply_divide.jl:175\u001b[22m\u001b[22m\n",
      " [7] \u001b[1mconic_form!\u001b[22m\u001b[22m\u001b[1m(\u001b[22m\u001b[22m::Convex.IndexAtom, ::Convex.UniqueConicForms\u001b[1m)\u001b[22m\u001b[22m at \u001b[1m/Users/Kazu/.julia/v0.6/Convex/src/atoms/affine/index.jl:72\u001b[22m\u001b[22m\n",
      " [8] \u001b[1mconic_form!\u001b[22m\u001b[22m\u001b[1m(\u001b[22m\u001b[22m::Convex.SDPConstraint, ::Convex.UniqueConicForms\u001b[1m)\u001b[22m\u001b[22m at \u001b[1m/Users/Kazu/.julia/v0.6/Convex/src/constraints/sdp_constraints.jl:65\u001b[22m\u001b[22m\n",
      " [9] \u001b[1mconic_form!\u001b[22m\u001b[22m\u001b[1m(\u001b[22m\u001b[22m::Convex.LogDetAtom, ::Convex.UniqueConicForms\u001b[1m)\u001b[22m\u001b[22m at \u001b[1m/Users/Kazu/.julia/v0.6/Convex/src/atoms/exp_+_sdp_cone/logdet.jl:57\u001b[22m\u001b[22m\n",
      " [10] \u001b[1mconic_form!\u001b[22m\u001b[22m\u001b[1m(\u001b[22m\u001b[22m::Convex.AdditionAtom, ::Convex.UniqueConicForms\u001b[1m)\u001b[22m\u001b[22m at \u001b[1m/Users/Kazu/.julia/v0.6/Convex/src/atoms/affine/add_subtract.jl:108\u001b[22m\u001b[22m\n",
      " [11] \u001b[1mconic_form!\u001b[22m\u001b[22m\u001b[1m(\u001b[22m\u001b[22m::Convex.EqConstraint, ::Convex.UniqueConicForms\u001b[1m)\u001b[22m\u001b[22m at \u001b[1m/Users/Kazu/.julia/v0.6/Convex/src/constraints/constraints.jl:43\u001b[22m\u001b[22m\n",
      " [12] \u001b[1mconic_form!\u001b[22m\u001b[22m\u001b[1m(\u001b[22m\u001b[22m::Convex.Problem, ::Convex.UniqueConicForms\u001b[1m)\u001b[22m\u001b[22m at \u001b[1m/Users/Kazu/.julia/v0.6/Convex/src/problems.jl:99\u001b[22m\u001b[22m\n",
      " [13] \u001b[1mconic_problem\u001b[22m\u001b[22m\u001b[1m(\u001b[22m\u001b[22m::Convex.Problem\u001b[1m)\u001b[22m\u001b[22m at \u001b[1m/Users/Kazu/.julia/v0.6/Convex/src/problems.jl:124\u001b[22m\u001b[22m\n",
      " [14] \u001b[1m#solve!#25\u001b[22m\u001b[22m\u001b[1m(\u001b[22m\u001b[22m::Bool, ::Bool, ::Bool, ::Function, ::Convex.Problem\u001b[1m)\u001b[22m\u001b[22m at \u001b[1m/Users/Kazu/.julia/v0.6/Convex/src/solution.jl:25\u001b[22m\u001b[22m\n",
      " [15] \u001b[1msolve!\u001b[22m\u001b[22m\u001b[1m(\u001b[22m\u001b[22m::Convex.Problem\u001b[1m)\u001b[22m\u001b[22m at \u001b[1m/Users/Kazu/.julia/v0.6/Convex/src/solution.jl:21\u001b[22m\u001b[22m\n",
      " [16] \u001b[1minclude_string\u001b[22m\u001b[22m\u001b[1m(\u001b[22m\u001b[22m::String, ::String\u001b[1m)\u001b[22m\u001b[22m at \u001b[1m./loading.jl:515\u001b[22m\u001b[22m\n",
      " [17] \u001b[1mexecute_request\u001b[22m\u001b[22m\u001b[1m(\u001b[22m\u001b[22m::ZMQ.Socket, ::IJulia.Msg\u001b[1m)\u001b[22m\u001b[22m at \u001b[1m/Users/Kazu/.julia/v0.6/IJulia/src/execute_request.jl:160\u001b[22m\u001b[22m\n",
      " [18] \u001b[1meventloop\u001b[22m\u001b[22m\u001b[1m(\u001b[22m\u001b[22m::ZMQ.Socket\u001b[1m)\u001b[22m\u001b[22m at \u001b[1m/Users/Kazu/.julia/v0.6/IJulia/src/eventloop.jl:8\u001b[22m\u001b[22m\n",
      " [19] \u001b[1m(::IJulia.##11#14)\u001b[22m\u001b[22m\u001b[1m(\u001b[22m\u001b[22m\u001b[1m)\u001b[22m\u001b[22m at \u001b[1m./task.jl:335\u001b[22m\u001b[22m\n",
      "while loading In[4], in expression starting on line 1\n",
      "\u001b[1m\u001b[33mWARNING: \u001b[39m\u001b[22m\u001b[33mArray{T}(::Type{T}, m::Int) is deprecated, use Array{T}(m) instead.\u001b[39m\n",
      "Stacktrace:\n",
      " [1] \u001b[1mdepwarn\u001b[22m\u001b[22m\u001b[1m(\u001b[22m\u001b[22m::String, ::Symbol\u001b[1m)\u001b[22m\u001b[22m at \u001b[1m./deprecated.jl:70\u001b[22m\u001b[22m\n",
      " [2] \u001b[1mArray\u001b[22m\u001b[22m\u001b[1m(\u001b[22m\u001b[22m::Type{Int64}, ::Int64\u001b[1m)\u001b[22m\u001b[22m at \u001b[1m./deprecated.jl:57\u001b[22m\u001b[22m\n",
      " [3] \u001b[1mconic_form!\u001b[22m\u001b[22m\u001b[1m(\u001b[22m\u001b[22m::Convex.CTransposeAtom, ::Convex.UniqueConicForms\u001b[1m)\u001b[22m\u001b[22m at \u001b[1m/Users/Kazu/.julia/v0.6/Convex/src/atoms/affine/transpose.jl:114\u001b[22m\u001b[22m\n",
      " [4] \u001b[1mconic_form!\u001b[22m\u001b[22m\u001b[1m(\u001b[22m\u001b[22m::Convex.HcatAtom, ::Convex.UniqueConicForms\u001b[1m)\u001b[22m\u001b[22m at \u001b[1m/Users/Kazu/.julia/v0.6/Convex/src/atoms/affine/stack.jl:47\u001b[22m\u001b[22m\n",
      " [5] \u001b[1mconic_form!\u001b[22m\u001b[22m\u001b[1m(\u001b[22m\u001b[22m::Convex.TransposeAtom, ::Convex.UniqueConicForms\u001b[1m)\u001b[22m\u001b[22m at \u001b[1m/Users/Kazu/.julia/v0.6/Convex/src/atoms/affine/transpose.jl:44\u001b[22m\u001b[22m\n",
      " [6] \u001b[1mconic_form!\u001b[22m\u001b[22m\u001b[1m(\u001b[22m\u001b[22m::Convex.HcatAtom, ::Convex.UniqueConicForms\u001b[1m)\u001b[22m\u001b[22m at \u001b[1m/Users/Kazu/.julia/v0.6/Convex/src/atoms/affine/stack.jl:47\u001b[22m\u001b[22m\n",
      " [7] \u001b[1mconic_form!\u001b[22m\u001b[22m\u001b[1m(\u001b[22m\u001b[22m::Convex.TransposeAtom, ::Convex.UniqueConicForms\u001b[1m)\u001b[22m\u001b[22m at \u001b[1m/Users/Kazu/.julia/v0.6/Convex/src/atoms/affine/transpose.jl:44\u001b[22m\u001b[22m\n",
      " [8] \u001b[1mconic_form!\u001b[22m\u001b[22m\u001b[1m(\u001b[22m\u001b[22m::Convex.DotMultiplyAtom, ::Convex.UniqueConicForms\u001b[1m)\u001b[22m\u001b[22m at \u001b[1m/Users/Kazu/.julia/v0.6/Convex/src/atoms/affine/multiply_divide.jl:175\u001b[22m\u001b[22m\n",
      " [9] \u001b[1mconic_form!\u001b[22m\u001b[22m\u001b[1m(\u001b[22m\u001b[22m::Convex.IndexAtom, ::Convex.UniqueConicForms\u001b[1m)\u001b[22m\u001b[22m at \u001b[1m/Users/Kazu/.julia/v0.6/Convex/src/atoms/affine/index.jl:72\u001b[22m\u001b[22m\n",
      " [10] \u001b[1mconic_form!\u001b[22m\u001b[22m\u001b[1m(\u001b[22m\u001b[22m::Convex.SDPConstraint, ::Convex.UniqueConicForms\u001b[1m)\u001b[22m\u001b[22m at \u001b[1m/Users/Kazu/.julia/v0.6/Convex/src/constraints/sdp_constraints.jl:65\u001b[22m\u001b[22m\n",
      " [11] \u001b[1mconic_form!\u001b[22m\u001b[22m\u001b[1m(\u001b[22m\u001b[22m::Convex.LogDetAtom, ::Convex.UniqueConicForms\u001b[1m)\u001b[22m\u001b[22m at \u001b[1m/Users/Kazu/.julia/v0.6/Convex/src/atoms/exp_+_sdp_cone/logdet.jl:57\u001b[22m\u001b[22m\n",
      " [12] \u001b[1mconic_form!\u001b[22m\u001b[22m\u001b[1m(\u001b[22m\u001b[22m::Convex.AdditionAtom, ::Convex.UniqueConicForms\u001b[1m)\u001b[22m\u001b[22m at \u001b[1m/Users/Kazu/.julia/v0.6/Convex/src/atoms/affine/add_subtract.jl:108\u001b[22m\u001b[22m\n",
      " [13] \u001b[1mconic_form!\u001b[22m\u001b[22m\u001b[1m(\u001b[22m\u001b[22m::Convex.EqConstraint, ::Convex.UniqueConicForms\u001b[1m)\u001b[22m\u001b[22m at \u001b[1m/Users/Kazu/.julia/v0.6/Convex/src/constraints/constraints.jl:43\u001b[22m\u001b[22m\n",
      " [14] \u001b[1mconic_form!\u001b[22m\u001b[22m\u001b[1m(\u001b[22m\u001b[22m::Convex.Problem, ::Convex.UniqueConicForms\u001b[1m)\u001b[22m\u001b[22m at \u001b[1m/Users/Kazu/.julia/v0.6/Convex/src/problems.jl:99\u001b[22m\u001b[22m\n",
      " [15] \u001b[1mconic_problem\u001b[22m\u001b[22m\u001b[1m(\u001b[22m\u001b[22m::Convex.Problem\u001b[1m)\u001b[22m\u001b[22m at \u001b[1m/Users/Kazu/.julia/v0.6/Convex/src/problems.jl:124\u001b[22m\u001b[22m\n",
      " [16] \u001b[1m#solve!#25\u001b[22m\u001b[22m\u001b[1m(\u001b[22m\u001b[22m::Bool, ::Bool, ::Bool, ::Function, ::Convex.Problem\u001b[1m)\u001b[22m\u001b[22m at \u001b[1m/Users/Kazu/.julia/v0.6/Convex/src/solution.jl:25\u001b[22m\u001b[22m\n",
      " [17] \u001b[1msolve!\u001b[22m\u001b[22m\u001b[1m(\u001b[22m\u001b[22m::Convex.Problem\u001b[1m)\u001b[22m\u001b[22m at \u001b[1m/Users/Kazu/.julia/v0.6/Convex/src/solution.jl:21\u001b[22m\u001b[22m\n",
      " [18] \u001b[1minclude_string\u001b[22m\u001b[22m\u001b[1m(\u001b[22m\u001b[22m::String, ::String\u001b[1m)\u001b[22m\u001b[22m at \u001b[1m./loading.jl:515\u001b[22m\u001b[22m\n",
      " [19] \u001b[1mexecute_request\u001b[22m\u001b[22m\u001b[1m(\u001b[22m\u001b[22m::ZMQ.Socket, ::IJulia.Msg\u001b[1m)\u001b[22m\u001b[22m at \u001b[1m/Users/Kazu/.julia/v0.6/IJulia/src/execute_request.jl:160\u001b[22m\u001b[22m\n",
      " [20] \u001b[1meventloop\u001b[22m\u001b[22m\u001b[1m(\u001b[22m\u001b[22m::ZMQ.Socket\u001b[1m)\u001b[22m\u001b[22m at \u001b[1m/Users/Kazu/.julia/v0.6/IJulia/src/eventloop.jl:8\u001b[22m\u001b[22m\n",
      " [21] \u001b[1m(::IJulia.##11#14)\u001b[22m\u001b[22m\u001b[1m(\u001b[22m\u001b[22m\u001b[1m)\u001b[22m\u001b[22m at \u001b[1m./task.jl:335\u001b[22m\u001b[22m\n",
      "while loading In[4], in expression starting on line 1\n"
     ]
    },
    {
     "name": "stderr",
     "output_type": "stream",
     "text": [
      "\u001b[1m\u001b[33mWARNING: \u001b[39m\u001b[22m\u001b[33mArray{T}(::Type{T}, m::Int) is deprecated, use Array{T}(m) instead.\u001b[39m\n",
      "Stacktrace:\n",
      " [1] \u001b[1mdepwarn\u001b[22m\u001b[22m\u001b[1m(\u001b[22m\u001b[22m::String, ::Symbol\u001b[1m)\u001b[22m\u001b[22m at \u001b[1m./deprecated.jl:70\u001b[22m\u001b[22m\n",
      " [2] \u001b[1mArray\u001b[22m\u001b[22m\u001b[1m(\u001b[22m\u001b[22m::Type{Int64}, ::Int64\u001b[1m)\u001b[22m\u001b[22m at \u001b[1m./deprecated.jl:57\u001b[22m\u001b[22m\n",
      " [3] \u001b[1mconic_form!\u001b[22m\u001b[22m\u001b[1m(\u001b[22m\u001b[22m::Convex.CTransposeAtom, ::Convex.UniqueConicForms\u001b[1m)\u001b[22m\u001b[22m at \u001b[1m/Users/Kazu/.julia/v0.6/Convex/src/atoms/affine/transpose.jl:115\u001b[22m\u001b[22m\n",
      " [4] \u001b[1mconic_form!\u001b[22m\u001b[22m\u001b[1m(\u001b[22m\u001b[22m::Convex.HcatAtom, ::Convex.UniqueConicForms\u001b[1m)\u001b[22m\u001b[22m at \u001b[1m/Users/Kazu/.julia/v0.6/Convex/src/atoms/affine/stack.jl:47\u001b[22m\u001b[22m\n",
      " [5] \u001b[1mconic_form!\u001b[22m\u001b[22m\u001b[1m(\u001b[22m\u001b[22m::Convex.TransposeAtom, ::Convex.UniqueConicForms\u001b[1m)\u001b[22m\u001b[22m at \u001b[1m/Users/Kazu/.julia/v0.6/Convex/src/atoms/affine/transpose.jl:44\u001b[22m\u001b[22m\n",
      " [6] \u001b[1mconic_form!\u001b[22m\u001b[22m\u001b[1m(\u001b[22m\u001b[22m::Convex.HcatAtom, ::Convex.UniqueConicForms\u001b[1m)\u001b[22m\u001b[22m at \u001b[1m/Users/Kazu/.julia/v0.6/Convex/src/atoms/affine/stack.jl:47\u001b[22m\u001b[22m\n",
      " [7] \u001b[1mconic_form!\u001b[22m\u001b[22m\u001b[1m(\u001b[22m\u001b[22m::Convex.TransposeAtom, ::Convex.UniqueConicForms\u001b[1m)\u001b[22m\u001b[22m at \u001b[1m/Users/Kazu/.julia/v0.6/Convex/src/atoms/affine/transpose.jl:44\u001b[22m\u001b[22m\n",
      " [8] \u001b[1mconic_form!\u001b[22m\u001b[22m\u001b[1m(\u001b[22m\u001b[22m::Convex.DotMultiplyAtom, ::Convex.UniqueConicForms\u001b[1m)\u001b[22m\u001b[22m at \u001b[1m/Users/Kazu/.julia/v0.6/Convex/src/atoms/affine/multiply_divide.jl:175\u001b[22m\u001b[22m\n",
      " [9] \u001b[1mconic_form!\u001b[22m\u001b[22m\u001b[1m(\u001b[22m\u001b[22m::Convex.IndexAtom, ::Convex.UniqueConicForms\u001b[1m)\u001b[22m\u001b[22m at \u001b[1m/Users/Kazu/.julia/v0.6/Convex/src/atoms/affine/index.jl:72\u001b[22m\u001b[22m\n",
      " [10] \u001b[1mconic_form!\u001b[22m\u001b[22m\u001b[1m(\u001b[22m\u001b[22m::Convex.SDPConstraint, ::Convex.UniqueConicForms\u001b[1m)\u001b[22m\u001b[22m at \u001b[1m/Users/Kazu/.julia/v0.6/Convex/src/constraints/sdp_constraints.jl:65\u001b[22m\u001b[22m\n",
      " [11] \u001b[1mconic_form!\u001b[22m\u001b[22m\u001b[1m(\u001b[22m\u001b[22m::Convex.LogDetAtom, ::Convex.UniqueConicForms\u001b[1m)\u001b[22m\u001b[22m at \u001b[1m/Users/Kazu/.julia/v0.6/Convex/src/atoms/exp_+_sdp_cone/logdet.jl:57\u001b[22m\u001b[22m\n",
      " [12] \u001b[1mconic_form!\u001b[22m\u001b[22m\u001b[1m(\u001b[22m\u001b[22m::Convex.AdditionAtom, ::Convex.UniqueConicForms\u001b[1m)\u001b[22m\u001b[22m at \u001b[1m/Users/Kazu/.julia/v0.6/Convex/src/atoms/affine/add_subtract.jl:108\u001b[22m\u001b[22m\n",
      " [13] \u001b[1mconic_form!\u001b[22m\u001b[22m\u001b[1m(\u001b[22m\u001b[22m::Convex.EqConstraint, ::Convex.UniqueConicForms\u001b[1m)\u001b[22m\u001b[22m at \u001b[1m/Users/Kazu/.julia/v0.6/Convex/src/constraints/constraints.jl:43\u001b[22m\u001b[22m\n",
      " [14] \u001b[1mconic_form!\u001b[22m\u001b[22m\u001b[1m(\u001b[22m\u001b[22m::Convex.Problem, ::Convex.UniqueConicForms\u001b[1m)\u001b[22m\u001b[22m at \u001b[1m/Users/Kazu/.julia/v0.6/Convex/src/problems.jl:99\u001b[22m\u001b[22m\n",
      " [15] \u001b[1mconic_problem\u001b[22m\u001b[22m\u001b[1m(\u001b[22m\u001b[22m::Convex.Problem\u001b[1m)\u001b[22m\u001b[22m at \u001b[1m/Users/Kazu/.julia/v0.6/Convex/src/problems.jl:124\u001b[22m\u001b[22m\n",
      " [16] \u001b[1m#solve!#25\u001b[22m\u001b[22m\u001b[1m(\u001b[22m\u001b[22m::Bool, ::Bool, ::Bool, ::Function, ::Convex.Problem\u001b[1m)\u001b[22m\u001b[22m at \u001b[1m/Users/Kazu/.julia/v0.6/Convex/src/solution.jl:25\u001b[22m\u001b[22m\n",
      " [17] \u001b[1msolve!\u001b[22m\u001b[22m\u001b[1m(\u001b[22m\u001b[22m::Convex.Problem\u001b[1m)\u001b[22m\u001b[22m at \u001b[1m/Users/Kazu/.julia/v0.6/Convex/src/solution.jl:21\u001b[22m\u001b[22m\n",
      " [18] \u001b[1minclude_string\u001b[22m\u001b[22m\u001b[1m(\u001b[22m\u001b[22m::String, ::String\u001b[1m)\u001b[22m\u001b[22m at \u001b[1m./loading.jl:515\u001b[22m\u001b[22m\n",
      " [19] \u001b[1mexecute_request\u001b[22m\u001b[22m\u001b[1m(\u001b[22m\u001b[22m::ZMQ.Socket, ::IJulia.Msg\u001b[1m)\u001b[22m\u001b[22m at \u001b[1m/Users/Kazu/.julia/v0.6/IJulia/src/execute_request.jl:160\u001b[22m\u001b[22m\n",
      " [20] \u001b[1meventloop\u001b[22m\u001b[22m\u001b[1m(\u001b[22m\u001b[22m::ZMQ.Socket\u001b[1m)\u001b[22m\u001b[22m at \u001b[1m/Users/Kazu/.julia/v0.6/IJulia/src/eventloop.jl:8\u001b[22m\u001b[22m\n",
      " [21] \u001b[1m(::IJulia.##11#14)\u001b[22m\u001b[22m\u001b[1m(\u001b[22m\u001b[22m\u001b[1m)\u001b[22m\u001b[22m at \u001b[1m./task.jl:335\u001b[22m\u001b[22m\n",
      "while loading In[4], in expression starting on line 1\n",
      "\u001b[1m\u001b[33mWARNING: \u001b[39m\u001b[22m\u001b[33mArray{T}(::Type{T}, m::Int) is deprecated, use Array{T}(m) instead.\u001b[39m\n",
      "Stacktrace:\n",
      " [1] \u001b[1mdepwarn\u001b[22m\u001b[22m\u001b[1m(\u001b[22m\u001b[22m::String, ::Symbol\u001b[1m)\u001b[22m\u001b[22m at \u001b[1m./deprecated.jl:70\u001b[22m\u001b[22m\n",
      " [2] \u001b[1mArray\u001b[22m\u001b[22m\u001b[1m(\u001b[22m\u001b[22m::Type{DataStructures.OrderedDict{UInt64,Tuple{Union{AbstractArray, Number},Union{AbstractArray, Number}}}}, ::Int64\u001b[1m)\u001b[22m\u001b[22m at \u001b[1m./deprecated.jl:57\u001b[22m\u001b[22m\n",
      " [3] \u001b[1mconic_form!\u001b[22m\u001b[22m\u001b[1m(\u001b[22m\u001b[22m::Convex.SOCConstraint, ::Convex.UniqueConicForms\u001b[1m)\u001b[22m\u001b[22m at \u001b[1m/Users/Kazu/.julia/v0.6/Convex/src/constraints/soc_constraints.jl:21\u001b[22m\u001b[22m\n",
      " [4] \u001b[1mconic_form!\u001b[22m\u001b[22m\u001b[1m(\u001b[22m\u001b[22m::Convex.EucNormAtom, ::Convex.UniqueConicForms\u001b[1m)\u001b[22m\u001b[22m at \u001b[1m/Users/Kazu/.julia/v0.6/Convex/src/atoms/second_order_cone/norm2.jl:47\u001b[22m\u001b[22m\n",
      " [5] \u001b[1mconic_form!\u001b[22m\u001b[22m\u001b[1m(\u001b[22m\u001b[22m::Convex.NegateAtom, ::Convex.UniqueConicForms\u001b[1m)\u001b[22m\u001b[22m at \u001b[1m/Users/Kazu/.julia/v0.6/Convex/src/atoms/affine/add_subtract.jl:47\u001b[22m\u001b[22m\n",
      " [6] \u001b[1mconic_form!\u001b[22m\u001b[22m\u001b[1m(\u001b[22m\u001b[22m::Convex.AdditionAtom, ::Convex.UniqueConicForms\u001b[1m)\u001b[22m\u001b[22m at \u001b[1m/Users/Kazu/.julia/v0.6/Convex/src/atoms/affine/add_subtract.jl:108\u001b[22m\u001b[22m\n",
      " [7] \u001b[1mconic_form!\u001b[22m\u001b[22m\u001b[1m(\u001b[22m\u001b[22m::Convex.LtConstraint, ::Convex.UniqueConicForms\u001b[1m)\u001b[22m\u001b[22m at \u001b[1m/Users/Kazu/.julia/v0.6/Convex/src/constraints/constraints.jl:101\u001b[22m\u001b[22m\n",
      " [8] \u001b[1mconic_form!\u001b[22m\u001b[22m\u001b[1m(\u001b[22m\u001b[22m::Convex.Problem, ::Convex.UniqueConicForms\u001b[1m)\u001b[22m\u001b[22m at \u001b[1m/Users/Kazu/.julia/v0.6/Convex/src/problems.jl:101\u001b[22m\u001b[22m\n",
      " [9] \u001b[1mconic_problem\u001b[22m\u001b[22m\u001b[1m(\u001b[22m\u001b[22m::Convex.Problem\u001b[1m)\u001b[22m\u001b[22m at \u001b[1m/Users/Kazu/.julia/v0.6/Convex/src/problems.jl:124\u001b[22m\u001b[22m\n",
      " [10] \u001b[1m#solve!#25\u001b[22m\u001b[22m\u001b[1m(\u001b[22m\u001b[22m::Bool, ::Bool, ::Bool, ::Function, ::Convex.Problem\u001b[1m)\u001b[22m\u001b[22m at \u001b[1m/Users/Kazu/.julia/v0.6/Convex/src/solution.jl:25\u001b[22m\u001b[22m\n",
      " [11] \u001b[1msolve!\u001b[22m\u001b[22m\u001b[1m(\u001b[22m\u001b[22m::Convex.Problem\u001b[1m)\u001b[22m\u001b[22m at \u001b[1m/Users/Kazu/.julia/v0.6/Convex/src/solution.jl:21\u001b[22m\u001b[22m\n",
      " [12] \u001b[1minclude_string\u001b[22m\u001b[22m\u001b[1m(\u001b[22m\u001b[22m::String, ::String\u001b[1m)\u001b[22m\u001b[22m at \u001b[1m./loading.jl:515\u001b[22m\u001b[22m\n",
      " [13] \u001b[1mexecute_request\u001b[22m\u001b[22m\u001b[1m(\u001b[22m\u001b[22m::ZMQ.Socket, ::IJulia.Msg\u001b[1m)\u001b[22m\u001b[22m at \u001b[1m/Users/Kazu/.julia/v0.6/IJulia/src/execute_request.jl:160\u001b[22m\u001b[22m\n",
      " [14] \u001b[1meventloop\u001b[22m\u001b[22m\u001b[1m(\u001b[22m\u001b[22m::ZMQ.Socket\u001b[1m)\u001b[22m\u001b[22m at \u001b[1m/Users/Kazu/.julia/v0.6/IJulia/src/eventloop.jl:8\u001b[22m\u001b[22m\n",
      " [15] \u001b[1m(::IJulia.##11#14)\u001b[22m\u001b[22m\u001b[1m(\u001b[22m\u001b[22m\u001b[1m)\u001b[22m\u001b[22m at \u001b[1m./task.jl:335\u001b[22m\u001b[22m\n",
      "while loading In[4], in expression starting on line 1\n",
      "\u001b[1m\u001b[33mWARNING: \u001b[39m\u001b[22m"
     ]
    },
    {
     "name": "stdout",
     "output_type": "stream",
     "text": [
      "Problem status: Optimal"
     ]
    },
    {
     "name": "stderr",
     "output_type": "stream",
     "text": [
      "\u001b[33misnan{T <: Number}(x::AbstractArray{T}) is deprecated, use isnan.(x) instead.\u001b[39m\n",
      "Stacktrace:\n",
      " [1] \u001b[1mdepwarn\u001b[22m\u001b[22m\u001b[1m(\u001b[22m\u001b[22m::String, ::Symbol\u001b[1m)\u001b[22m\u001b[22m at \u001b[1m./deprecated.jl:70\u001b[22m\u001b[22m\n",
      " [2] \u001b[1misnan\u001b[22m\u001b[22m\u001b[1m(\u001b[22m\u001b[22m::Array{Float64,1}\u001b[1m)\u001b[22m\u001b[22m at \u001b[1m./deprecated.jl:57\u001b[22m\u001b[22m\n",
      " [3] \u001b[1mpopulate_solution!\u001b[22m\u001b[22m\u001b[1m(\u001b[22m\u001b[22m::SCS.SCSMathProgModel, ::Convex.Problem, ::Dict{UInt64,Tuple{Int64,Int64}}, ::Array{Convex.ConicConstr,1}\u001b[1m)\u001b[22m\u001b[22m at \u001b[1m/Users/Kazu/.julia/v0.6/Convex/src/solution.jl:118\u001b[22m\u001b[22m\n",
      " [4] \u001b[1m#solve!#25\u001b[22m\u001b[22m\u001b[1m(\u001b[22m\u001b[22m::Bool, ::Bool, ::Bool, ::Function, ::Convex.Problem\u001b[1m)\u001b[22m\u001b[22m at \u001b[1m/Users/Kazu/.julia/v0.6/Convex/src/solution.jl:38\u001b[22m\u001b[22m\n",
      " [5] \u001b[1msolve!\u001b[22m\u001b[22m\u001b[1m(\u001b[22m\u001b[22m::Convex.Problem\u001b[1m)\u001b[22m\u001b[22m at \u001b[1m/Users/Kazu/.julia/v0.6/Convex/src/solution.jl:21\u001b[22m\u001b[22m\n",
      " [6] \u001b[1minclude_string\u001b[22m\u001b[22m\u001b[1m(\u001b[22m\u001b[22m::String, ::String\u001b[1m)\u001b[22m\u001b[22m at \u001b[1m./loading.jl:515\u001b[22m\u001b[22m\n",
      " [7] \u001b[1mexecute_request\u001b[22m\u001b[22m\u001b[1m(\u001b[22m\u001b[22m::ZMQ.Socket, ::IJulia.Msg\u001b[1m)\u001b[22m\u001b[22m at \u001b[1m/Users/Kazu/.julia/v0.6/IJulia/src/execute_request.jl:160\u001b[22m\u001b[22m\n",
      " [8] \u001b[1meventloop\u001b[22m\u001b[22m\u001b[1m(\u001b[22m\u001b[22m::ZMQ.Socket\u001b[1m)\u001b[22m\u001b[22m at \u001b[1m/Users/Kazu/.julia/v0.6/IJulia/src/eventloop.jl:8\u001b[22m\u001b[22m\n",
      " [9] \u001b[1m(::IJulia.##11#14)\u001b[22m\u001b[22m\u001b[1m(\u001b[22m\u001b[22m\u001b[1m)\u001b[22m\u001b[22m at \u001b[1m./task.jl:335\u001b[22m\u001b[22m\n",
      "while loading In[4], in expression starting on line 1\n"
     ]
    },
    {
     "name": "stdout",
     "output_type": "stream",
     "text": [
      "\n",
      "Optimal value: -2.6001457566318957\n",
      "A: [0.193244 0.118632; 0.118632 0.456954]\n",
      "b: [-0.94576; -1.34902]\n"
     ]
    },
    {
     "data": {
      "text/plain": [
       "2×1 Array{Float64,2}:\n",
       " -0.94576\n",
       " -1.34902"
      ]
     },
     "execution_count": 4,
     "metadata": {},
     "output_type": "execute_result"
    }
   ],
   "source": [
    "solve!(problem)\n",
    "\n",
    "# Results\n",
    "println(\"Problem status: \", problem.status)\n",
    "println(\"Optimal value: \", problem.optval)\n",
    "println(\"A: \", A.value)\n",
    "println(\"b: \", b.value)\n",
    "A = A.value\n",
    "b = b.value"
   ]
  },
  {
   "cell_type": "code",
   "execution_count": null,
   "metadata": {},
   "outputs": [],
   "source": [
    "# Plot\n",
    "\n",
    "angles = collect(0 : 0.1 : 2*pi)\n",
    "if n_dims==2\n",
    "     vecs = [cos.(angles)-b[1] sin.(angles)-b[2]]'\n",
    "     ellipse = inv(A) * vecs\n",
    "\n",
    "     for i in 1:size(x)[1]\n",
    "          plot(x[i,1], x[i,2], \"ro\")\n",
    "     end\n",
    "\n",
    "     plot(ellipse[1,:], ellipse[2,:], \"b.\")\n",
    "     axis(\"equal\")\n",
    "elseif n_dims==3\n",
    "     vecs = []\n",
    "     for i in angles\n",
    "          for j in angles\n",
    "               v = [cos.(i).*sin.(j)-b[1] sin.(i).*sin.(j)-b[2] cos.(j)-b[3]]\n",
    "               if isempty(vecs)\n",
    "                    vecs = v\n",
    "               end\n",
    "               vecs = [vecs; v]\n",
    "          end\n",
    "     end\n",
    "\n",
    "     for i in 1:size(x)[1]\n",
    "          plot3D([x[i,1]], [x[i,2]], [x[i,3]], \"ro\")\n",
    "     end\n",
    "\n",
    "     ellipse = inv(A)*vecs'\n",
    "     plot3D(ellipse[1,:], ellipse[2,:], ellipse[3,:], \"b.\", markersize=1)\n",
    "     axis(\"equal\")\n",
    "end"
   ]
  },
  {
   "cell_type": "code",
   "execution_count": null,
   "metadata": {
    "collapsed": true
   },
   "outputs": [],
   "source": []
  }
 ],
 "metadata": {
  "kernelspec": {
   "display_name": "Julia 0.6.0",
   "language": "julia",
   "name": "julia-0.6"
  },
  "language_info": {
   "file_extension": ".jl",
   "mimetype": "application/julia",
   "name": "julia",
   "version": "0.6.0"
  }
 },
 "nbformat": 4,
 "nbformat_minor": 2
}

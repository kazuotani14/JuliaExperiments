{
 "cells": [
  {
   "cell_type": "code",
   "execution_count": 5,
   "metadata": {
    "scrolled": true
   },
   "outputs": [
    {
     "name": "stderr",
     "output_type": "stream",
     "text": [
      "\u001b[1m\u001b[36mINFO: \u001b[39m\u001b[22m\u001b[36mPrecompiling module GR.\n",
      "\u001b[39m"
     ]
    },
    {
     "data": {
      "text/plain": [
       "Plots.GRBackend()"
      ]
     },
     "execution_count": 5,
     "metadata": {},
     "output_type": "execute_result"
    }
   ],
   "source": [
    "using JuMP, Ipopt\n",
    "using Plots\n",
    "gr()"
   ]
  },
  {
   "cell_type": "markdown",
   "metadata": {},
   "source": [
    "### 1. MPC with JuMP, using code from [MIT's Juliacon presentation](https://github.com/tkoolen/Robocon2017Tutorial.jl)."
   ]
  },
  {
   "cell_type": "code",
   "execution_count": null,
   "metadata": {
    "collapsed": true
   },
   "outputs": [],
   "source": [
    "# Set up model of particle \n",
    "\n",
    "model = Model(solver=IpoptSolver())\n",
    "\n",
    "# Constants\n",
    "Δt = 0.1\n",
    "num_time_steps = 20\n",
    "max_acceleration = 0.5\n",
    "\n",
    "# Decision variables\n",
    "@variables model begin\n",
    "    position[1:2, 1:num_time_steps]\n",
    "    velocity[1:2, 1:num_time_steps]\n",
    "    -max_acceleration <= acceleration[1:2, 1:num_time_steps] <= max_acceleration\n",
    "end\n",
    "\n",
    "# Dynamics constraints\n",
    "@constraint(model, [i=2:num_time_steps, j=1:2],\n",
    "            velocity[j, i] == velocity[j, i - 1] + acceleration[j, i - 1] * Δt)\n",
    "@constraint(model, [i=2:num_time_steps, j=1:2],\n",
    "            position[j, i] == position[j, i - 1] + velocity[j, i - 1] * Δt)\n",
    "\n",
    "# Cost function: minimize final position and final velocity\n",
    "@objective(model, Min, \n",
    "    100 * sum(position[:, end].^2) + sum(velocity[:, end].^2))\n",
    "\n",
    "# Initial conditions:\n",
    "@constraint(model, position[:, 1] .== [1, 0])\n",
    "@constraint(model, velocity[:, 1] .== [0, 1])\n",
    "\n",
    "solve(model)"
   ]
  },
  {
   "cell_type": "code",
   "execution_count": null,
   "metadata": {
    "collapsed": true
   },
   "outputs": [],
   "source": [
    "# Extract the solution from the model\n",
    "q = getvalue(position)\n",
    "v = getvalue(velocity)\n",
    "u = getvalue(acceleration)"
   ]
  },
  {
   "cell_type": "code",
   "execution_count": null,
   "metadata": {
    "collapsed": true
   },
   "outputs": [],
   "source": [
    "using Plots\n",
    "# Use the GR backend for Plots.jl, because it's fast\n",
    "gr()"
   ]
  },
  {
   "cell_type": "code",
   "execution_count": null,
   "metadata": {
    "collapsed": true
   },
   "outputs": [],
   "source": [
    "# The @gif macro creates an animate plot, which lets us draw the\n",
    "# optimized trajectory of the brick as a function of time\n",
    "anim = @animate for i = 1:num_time_steps\n",
    "    plot(q[1, :], q[2, :], xlim=(-1.1, 1.1), ylim=(-1.1, 1.1))\n",
    "    plot!([q[1, i]], [q[2, i]], marker=(:hex, 6))\n",
    "end\n",
    "gif(anim, \"img/mpc1.gif\", fps = 30)"
   ]
  },
  {
   "cell_type": "markdown",
   "metadata": {},
   "source": [
    "To do MPC, we can optimize a trajectory at each timestep, execute the first command, then replan at the next timestep.\n",
    "\n",
    "TODO: \n",
    "\n",
    "* Try adding noise"
   ]
  },
  {
   "cell_type": "markdown",
   "metadata": {},
   "source": [
    "### 2. Local QP controller"
   ]
  },
  {
   "cell_type": "code",
   "execution_count": 11,
   "metadata": {},
   "outputs": [
    {
     "data": {
      "text/plain": [
       "qp_controller (generic function with 1 method)"
      ]
     },
     "execution_count": 11,
     "metadata": {},
     "output_type": "execute_result"
    }
   ],
   "source": [
    "# Constants\n",
    "Δt = 0.1\n",
    "num_time_steps = 20\n",
    "max_acceleration = 0.5\n",
    "kp = 3.0\n",
    "kd = 2*sqrt(1.)\n",
    "\n",
    "function qp_controller(pos_cur, vel_cur, pos_des, vel_des)\n",
    "    model = Model(solver=IpoptSolver(print_level=0))\n",
    "    \n",
    "    # Decision variables\n",
    "    @variables model begin\n",
    "        -max_acceleration <= acceleration[1:2] <= max_acceleration\n",
    "    end\n",
    "\n",
    "    # Manual warm-start\n",
    "#     if isdefined(:prev_solution)\n",
    "#         setvalue(acceleration, prev_solution)\n",
    "#     end\n",
    "    \n",
    "    # Don't really need dynamics constraint because the dynamics model is just F=m*a\n",
    "    \n",
    "    # Cost function: spring damper behavior (PD controller) on \\ddot{p} between current and goal\n",
    "    # TODO try converting this to Q, C matrices\n",
    "    @objective(model, Min, sum((kp*(pos_des - pos_cur) + kd*(vel_des - vel_cur) - acceleration).^2))\n",
    "\n",
    "    solve(model)\n",
    "    global prev_solution = getvalue(acceleration)\n",
    "    return getvalue(acceleration)\n",
    "end"
   ]
  },
  {
   "cell_type": "code",
   "execution_count": 14,
   "metadata": {},
   "outputs": [
    {
     "name": "stdout",
     "output_type": "stream",
     "text": [
      "1:elapsed time: 0.0129214 seconds\n",
      "2:elapsed time: 0.002497019 seconds\n",
      "3:elapsed time: 0.00272748 seconds\n",
      "4:elapsed time: 0.002644017 seconds\n",
      "5:elapsed time: 0.002466686 seconds\n",
      "6:elapsed time: 0.002595739 seconds\n",
      "7:elapsed time: 0.0024866 seconds\n",
      "8:elapsed time: 0.002459388 seconds\n",
      "9:elapsed time: 0.002896408 seconds\n",
      "10:elapsed time: 0.002706125 seconds\n",
      "11:elapsed time: 0.002601737 seconds\n",
      "12:elapsed time: 0.002361509 seconds\n",
      "13:elapsed time: 0.002606607 seconds\n",
      "14:elapsed time: 0.00270171 seconds\n",
      "15:elapsed time: 0.002579073 seconds\n",
      "16:elapsed time: 0.002705427 seconds\n",
      "17:elapsed time: 0.002355573 seconds\n",
      "18:elapsed time: 0.002663018 seconds\n",
      "19:elapsed time: 0.00273584 seconds\n",
      "20:elapsed time: 0.00259683 seconds\n",
      "21:elapsed time: 0.002584731 seconds\n",
      "22:elapsed time: 0.002623779 seconds\n",
      "23:elapsed time: 0.002286313 seconds\n",
      "24:elapsed time: 0.002412801 seconds\n",
      "25:elapsed time: 0.002546807 seconds\n",
      "26:elapsed time: 0.002323295 seconds\n",
      "27:elapsed time: 0.002514043 seconds\n",
      "28:elapsed time: 0.002597798 seconds\n",
      "29:elapsed time: 0.003015132 seconds\n",
      "30:elapsed time: 0.002534959 seconds\n",
      "31:elapsed time: 0.002351388 seconds\n",
      "32:elapsed time: 0.002397257 seconds\n",
      "33:elapsed time: 0.00260028 seconds\n",
      "34:elapsed time: 0.002473577 seconds\n",
      "35:elapsed time: 0.002413458 seconds\n",
      "36:elapsed time: 0.002642327 seconds\n",
      "37:elapsed time: 0.002750804 seconds\n",
      "38:elapsed time: 0.002554279 seconds\n",
      "39:elapsed time: 0.002508216 seconds\n",
      "40:elapsed time: 0.002496293 seconds\n",
      "41:elapsed time: 0.002516674 seconds\n",
      "42:elapsed time: 0.002350741 seconds\n",
      "43:elapsed time: 0.00262129 seconds\n",
      "44:elapsed time: 0.002685077 seconds\n",
      "45:elapsed time: 0.002388142 seconds\n",
      "46:elapsed time: 0.002531 seconds\n",
      "47:elapsed time: 0.002191589 seconds\n",
      "48:elapsed time: 0.002175993 seconds\n",
      "49:elapsed time: 0.002214073 seconds\n",
      "50:elapsed time: 0.002531792 seconds\n",
      "51:elapsed time: 0.002293218 seconds\n",
      "52:elapsed time: 0.00272985 seconds\n",
      "53:elapsed time: 0.002372532 seconds\n",
      "54:elapsed time: 0.002421638 seconds\n",
      "55:elapsed time: 0.002183545 seconds\n",
      "56:elapsed time: 0.00183428 seconds\n",
      "57:elapsed time: 0.001986179 seconds\n",
      "58:elapsed time: 0.002310214 seconds\n",
      "59:elapsed time: 0.002444524 seconds\n",
      "60:elapsed time: 0.00258247 seconds\n",
      "61:elapsed time: 0.002415826 seconds\n",
      "62:elapsed time: 0.002508355 seconds\n",
      "63:elapsed time: 0.002749101 seconds\n",
      "64:elapsed time: 0.003114952 seconds\n",
      "65:elapsed time: 0.003007057 seconds\n",
      "66:elapsed time: 0.002388532 seconds\n",
      "67:elapsed time: 0.002254413 seconds\n",
      "68:elapsed time: 0.002288085 seconds\n",
      "69:elapsed time: 0.002796824 seconds\n",
      "70:elapsed time: 0.002301539 seconds\n",
      "71:elapsed time: 0.002785367 seconds\n",
      "72:elapsed time: 0.002636381 seconds\n",
      "73:elapsed time: 0.002437215 seconds\n",
      "74:elapsed time: 0.002446118 seconds\n",
      "75:elapsed time: 0.002396071 seconds\n",
      "76:elapsed time: 0.002400529 seconds\n",
      "77:elapsed time: 0.002075735 seconds\n",
      "78:elapsed time: 0.001937054 seconds\n",
      "79:elapsed time: 0.001927764 seconds\n",
      "80:elapsed time: 0.001920724 seconds\n",
      "81:elapsed time: 0.002127704 seconds\n",
      "82:elapsed time: 0.002160046 seconds\n",
      "83:elapsed time: 0.002265776 seconds\n",
      "84:elapsed time: 0.002110168 seconds\n",
      "85:elapsed time: 0.002123734 seconds\n",
      "86:elapsed time: 0.002104169 seconds\n",
      "87:elapsed time: 0.002100282 seconds\n",
      "88:elapsed time: 0.002138509 seconds\n",
      "89:elapsed time: 0.002103652 seconds\n",
      "90:elapsed time: 0.002062348 seconds\n",
      "91:elapsed time: 0.001965694 seconds\n",
      "92:elapsed time: 0.001937286 seconds\n",
      "93:elapsed time: 0.002036851 seconds\n",
      "94:elapsed time: 0.002008433 seconds\n",
      "95:elapsed time: 0.002050965 seconds\n",
      "96:elapsed time: 0.001984662 seconds\n",
      "97:elapsed time: 0.001993669 seconds\n",
      "98:elapsed time: 0.001949503 seconds\n",
      "99:elapsed time: 0.001888224 seconds\n",
      "100:elapsed time: 0.001998489 seconds\n"
     ]
    },
    {
     "name": "stderr",
     "output_type": "stream",
     "text": [
      "convert: unable to open image `/home/kazu/Experimental/JuliaExperiments/img/qp_traj.gif': No such file or directory @ error/blob.c/OpenBlob/2712.\n",
      "\u001b[1m\u001b[33mWARNING: \u001b[39m\u001b[22m\u001b[33mTried to create gif using convert (ImageMagick), but got error: ErrorException(\"failed process: Process(`convert -delay 5 -loop 0 '/tmp/tmpCFhiTj/*.png' -alpha off /home/kazu/Experimental/JuliaExperiments/img/qp_traj.gif`, ProcessExited(1)) [1]\")\n",
      "ImageMagick can be installed by executing `Pkg.add(\"ImageMagick\")`.\n",
      "You may also need to install the imagemagick c++ library through your operating system. \n",
      "Will try ffmpeg, but it's lower quality...)\u001b[39m\n"
     ]
    },
    {
     "ename": "LoadError",
     "evalue": "\u001b[91mfailed process: Process(`ffmpeg -v 0 -framerate 20 -loop 0 -i /tmp/tmpCFhiTj/%06d.png -y /home/kazu/Experimental/JuliaExperiments/img/qp_traj.gif`, ProcessExited(1)) [1]\u001b[39m",
     "output_type": "error",
     "traceback": [
      "\u001b[91mfailed process: Process(`ffmpeg -v 0 -framerate 20 -loop 0 -i /tmp/tmpCFhiTj/%06d.png -y /home/kazu/Experimental/JuliaExperiments/img/qp_traj.gif`, ProcessExited(1)) [1]\u001b[39m",
      "",
      "Stacktrace:",
      " [1] \u001b[1mpipeline_error\u001b[22m\u001b[22m\u001b[1m(\u001b[22m\u001b[22m::Base.Process\u001b[1m)\u001b[22m\u001b[22m at \u001b[1m./process.jl:682\u001b[22m\u001b[22m",
      " [2] \u001b[1mrun\u001b[22m\u001b[22m\u001b[1m(\u001b[22m\u001b[22m::Cmd\u001b[1m)\u001b[22m\u001b[22m at \u001b[1m./process.jl:651\u001b[22m\u001b[22m",
      " [3] \u001b[1m#buildanimation#234\u001b[22m\u001b[22m\u001b[1m(\u001b[22m\u001b[22m::Int64, ::Int64, ::Function, ::String, ::String\u001b[1m)\u001b[22m\u001b[22m at \u001b[1m/home/kazu/.julia/v0.6/Plots/src/animation.jl:88\u001b[22m\u001b[22m",
      " [4] \u001b[1m#gif#231\u001b[22m\u001b[22m at \u001b[1m/home/kazu/.julia/v0.6/Plots/src/animation.jl:58\u001b[22m\u001b[22m [inlined]",
      " [5] \u001b[1mgif\u001b[22m\u001b[22m\u001b[1m(\u001b[22m\u001b[22m::Plots.Animation, ::String\u001b[1m)\u001b[22m\u001b[22m at \u001b[1m/home/kazu/.julia/v0.6/Plots/src/animation.jl:58\u001b[22m\u001b[22m"
     ]
    }
   ],
   "source": [
    "pos_des = [-1,1]\n",
    "vel_des = [0,0]\n",
    "q = [1,0]\n",
    "v = [0,0]\n",
    "\n",
    "anim = @animate for i in 1:100\n",
    "    # Plot the current position\n",
    "    plot([q[1]], [q[2]], marker=(:hex, 10), xlim=(-1.1, 1.1), ylim=(-1.1, 1.1))\n",
    "    \n",
    "    # Run the MPC control optimization\n",
    "    tic()\n",
    "    accel_plan = qp_controller(q, v, pos_des, vel_des)\n",
    "    print(i, \".\")\n",
    "    toc()\n",
    "    \n",
    "    # Apply the planned acceleration and simulate one step in time\n",
    "    v += accel_plan * Δt\n",
    "    q += v * Δt\n",
    "end\n",
    "\n",
    "gif(anim, \"img/qp_traj.gif\")"
   ]
  },
  {
   "cell_type": "code",
   "execution_count": null,
   "metadata": {
    "collapsed": true
   },
   "outputs": [],
   "source": []
  }
 ],
 "metadata": {
  "kernelspec": {
   "display_name": "Julia 0.6.0",
   "language": "julia",
   "name": "julia-0.6"
  },
  "language_info": {
   "file_extension": ".jl",
   "mimetype": "application/julia",
   "name": "julia",
   "version": "0.6.0"
  }
 },
 "nbformat": 4,
 "nbformat_minor": 2
}
